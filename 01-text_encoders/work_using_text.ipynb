{
 "cells": [
  {
   "cell_type": "markdown",
   "id": "3b267a05",
   "metadata": {},
   "source": [
    "# Text Encoding process \n",
    "\n",
    "This notebook is to work on the text encoding process."
   ]
  },
  {
   "cell_type": "markdown",
   "id": "a8c336f6",
   "metadata": {},
   "source": [
    "Use the same example as LLMs from scratch to work on text encoding."
   ]
  },
  {
   "cell_type": "code",
   "execution_count": 9,
   "id": "147dde0e",
   "metadata": {},
   "outputs": [],
   "source": [
    "from pathlib import Path\n",
    "import urllib.request\n",
    "data_path = Path(\"../data\")\n",
    "file_path = data_path / \"the-verdict.txt\"\n",
    "if not file_path.exists():\n",
    "    url = (\"https://raw.githubusercontent.com/rasbt/\"\n",
    "           \"LLMs-from-scratch/main/ch02/01_main-chapter-code/\"\n",
    "           \"the-verdict.txt\")\n",
    "    if not data_path.exists():\n",
    "        data_path.mkdir()\n",
    "    \n",
    "    urllib.request.urlretrieve(url, file_path)"
   ]
  },
  {
   "cell_type": "code",
   "execution_count": 10,
   "id": "39bbe2b9",
   "metadata": {},
   "outputs": [
    {
     "name": "stdout",
     "output_type": "stream",
     "text": [
      "Total number of character: 20479\n",
      "I HAD always thought Jack Gisburn rather a cheap genius--though a good fellow enough--so it was no \n"
     ]
    }
   ],
   "source": [
    "with open(file_path, \"r\", encoding=\"utf-8\") as f:\n",
    "    raw_text = f.read()\n",
    "    \n",
    "print(\"Total number of character:\", len(raw_text))\n",
    "print(raw_text[:99])"
   ]
  },
  {
   "cell_type": "code",
   "execution_count": 11,
   "id": "0e5c5be6",
   "metadata": {},
   "outputs": [
    {
     "name": "stdout",
     "output_type": "stream",
     "text": [
      "['This', 'is', 'a', 'simple', 'example', '.', \"Let's\", 'see', 'how', 'it', 'works!']\n"
     ]
    }
   ],
   "source": [
    "import re\n",
    "\n",
    "simple_example = \"This is a simple example. Let's see how it works!\"\n",
    "\n",
    "# Split by space, comma, or period, keeping the delimiters\n",
    "tokens = re.split(r'([,.]|\\s)', simple_example)\n",
    "# Remove empty tokens\n",
    "tokens = [token for token in tokens if token.strip()]\n",
    "\n",
    "print(tokens)\n"
   ]
  },
  {
   "cell_type": "code",
   "execution_count": 12,
   "id": "69348e7d",
   "metadata": {},
   "outputs": [
    {
     "data": {
      "text/plain": [
       "['I',\n",
       " 'HAD',\n",
       " 'always',\n",
       " 'thought',\n",
       " 'Jack',\n",
       " 'Gisburn',\n",
       " 'rather',\n",
       " 'a',\n",
       " 'cheap',\n",
       " 'genius',\n",
       " '--',\n",
       " 'though',\n",
       " 'a',\n",
       " 'good',\n",
       " 'fellow',\n",
       " 'enough',\n",
       " '--',\n",
       " 'so',\n",
       " 'it',\n",
       " 'was']"
      ]
     },
     "execution_count": 12,
     "metadata": {},
     "output_type": "execute_result"
    }
   ],
   "source": [
    "preprocessed_text = re.split(r'([,.:;?_!\"()\\']|--|\\s)', raw_text)\n",
    "preprocessed_text = [token.strip() for token in preprocessed_text if token.strip()]\n",
    "\n",
    "preprocessed_text[:20]\n"
   ]
  },
  {
   "cell_type": "markdown",
   "id": "e48c5e2c",
   "metadata": {},
   "source": [
    "## Vanilla text processing \n",
    "\n",
    "Now we have our processed text, we can work on encoding it.\n",
    "\n",
    "Let's create a simple vocabulary mapping each unique token to an integer index."
   ]
  },
  {
   "cell_type": "code",
   "execution_count": 13,
   "id": "071ff7aa",
   "metadata": {},
   "outputs": [],
   "source": [
    "vocab = {token: idx for idx, token in enumerate(sorted(set(preprocessed_text)))}"
   ]
  },
  {
   "cell_type": "code",
   "execution_count": 14,
   "id": "bbb5eb0d",
   "metadata": {},
   "outputs": [
    {
     "name": "stdout",
     "output_type": "stream",
     "text": [
      "Vocabulary size: 1130\n",
      "Encoded: [97, 584, 156, 7]\n",
      "Decoded: This is an.\n"
     ]
    }
   ],
   "source": [
    "class TextEncoderV1:\n",
    "    def __init__(self, vocab):\n",
    "        self.vocab = vocab\n",
    "        self.inv_vocab = {idx: token for token, idx in vocab.items()}\n",
    "    \n",
    "    def encode(self, text):\n",
    "        tokens = re.split(r'([,.:;?_!\"()\\']|--|\\s)', text)\n",
    "        tokens = [token.strip() for token in tokens if token.strip()]\n",
    "        return [self.vocab[token] for token in tokens]\n",
    "    \n",
    "    def decode(self, indices):\n",
    "        text = [self.inv_vocab[idx] for idx in indices]\n",
    "        return re.sub(r' ([,.:;?_!\"()\\'])', r'\\1', ' '.join(text))\n",
    "    \n",
    "encoder = TextEncoderV1(vocab)\n",
    "print(\"Vocabulary size:\", len(encoder.vocab))\n",
    "print(\"Encoded:\", encoder.encode(\"This is an.\"))\n",
    "print(\"Decoded:\", encoder.decode(encoder.encode(\"This is an.\")))"
   ]
  },
  {
   "cell_type": "code",
   "execution_count": 15,
   "id": "12770682",
   "metadata": {},
   "outputs": [],
   "source": [
    "# Add <unk> token for unknown words and end-of-sequence token <eos>\n",
    "new_vocbab = vocab.copy()\n",
    "new_vocbab[\"<unk>\"] = len(new_vocbab)\n",
    "new_vocbab[\"<eos>\"] = len(new_vocbab)\n",
    "\n",
    "class TextEncoderV2:\n",
    "    def __init__(self, vocab):\n",
    "        self.vocab = vocab\n",
    "        self.inv_vocab = {idx: token for token, idx in vocab.items()}\n",
    "    \n",
    "    def encode(self, text):\n",
    "        tokens = re.split(r'([,.:;?_!\"()\\']|--|\\s)', text)\n",
    "        tokens = [token.strip() for token in tokens if token.strip()]\n",
    "        tokens = [token if token in self.vocab else \"<unk>\" for token in tokens\n",
    "                   ]\n",
    "        tokens.append(\"<eos>\")\n",
    "        return [self.vocab[token] for token in tokens]\n",
    "    \n",
    "    def decode(self, indices):\n",
    "        text = [self.inv_vocab[idx] for idx in indices if idx != self.vocab[\"<eos>\"]]\n",
    "        return re.sub(r' ([,.:;?_!\"()\\'])', r'\\1', ' '.join(text))"
   ]
  },
  {
   "cell_type": "code",
   "execution_count": 16,
   "id": "4f3ff049",
   "metadata": {},
   "outputs": [
    {
     "name": "stdout",
     "output_type": "stream",
     "text": [
      "Encoded with V2: [97, 584, 156, 1130, 7, 1131]\n",
      "Decoded with V2: This is an <unk>.\n"
     ]
    }
   ],
   "source": [
    "encoder_v2 = TextEncoderV2(new_vocbab)\n",
    "print(\"Encoded with V2:\", encoder_v2.encode(\"This is an unknownword.\"))\n",
    "print(\"Decoded with V2:\", encoder_v2.decode(encoder_v2.encode(\"This is an unknownword.\")))\n"
   ]
  },
  {
   "cell_type": "markdown",
   "id": "b85275ab",
   "metadata": {},
   "source": [
    "Exercise"
   ]
  },
  {
   "cell_type": "code",
   "execution_count": 17,
   "id": "877f8e24",
   "metadata": {},
   "outputs": [
    {
     "name": "stdout",
     "output_type": "stream",
     "text": [
      "[33901, 86, 343, 86, 220, 959]\n",
      "Akwirw ier\n"
     ]
    }
   ],
   "source": [
    "from tiktoken._educational import tiktoken\n",
    "\n",
    "tokenizer = tiktoken.get_encoding(\"gpt2\")\n",
    "\n",
    "words = \"Akwirw ier\"\n",
    "\n",
    "tokens = tokenizer.encode(words)\n",
    "\n",
    "print(tokens)\n",
    "\n",
    "decoded_words = tokenizer.decode(tokens)\n",
    "\n",
    "print(decoded_words)\n",
    "\n"
   ]
  },
  {
   "cell_type": "markdown",
   "id": "ffde1d04",
   "metadata": {},
   "source": [
    "Implementing rolling windows"
   ]
  },
  {
   "cell_type": "code",
   "execution_count": 18,
   "id": "fbde661d",
   "metadata": {},
   "outputs": [
    {
     "name": "stdout",
     "output_type": "stream",
     "text": [
      "Total number of characters: 20479\n",
      "Total number of tokens: 5145\n"
     ]
    }
   ],
   "source": [
    "with open(\"data/the-verdict.txt\", \"r\", encoding=\"utf-8\") as f:\n",
    "    raw_text = f.read()\n",
    "\n",
    "enc_text = tokenizer.encode(raw_text)\n",
    "\n",
    "print(\"Total number of characters:\", len(raw_text))\n",
    "print(\"Total number of tokens:\", len(enc_text))"
   ]
  },
  {
   "cell_type": "code",
   "execution_count": 19,
   "id": "b7708cb2",
   "metadata": {},
   "outputs": [],
   "source": [
    "enc_seq = enc_text[50:]"
   ]
  },
  {
   "cell_type": "code",
   "execution_count": 20,
   "id": "f77a3c51",
   "metadata": {},
   "outputs": [
    {
     "name": "stdout",
     "output_type": "stream",
     "text": [
      "Input tokens: [290, 4920, 2241, 287]\n",
      "Target tokens:     [4920, 2241, 287, 257]\n"
     ]
    }
   ],
   "source": [
    "context_window = 4 \n",
    "\n",
    "x = enc_seq[:context_window]\n",
    "y = enc_seq[1:context_window + 1]\n",
    "\n",
    "print(f\"Input tokens: {x}\")\n",
    "print(f\"Target tokens:     {y}\")\n"
   ]
  },
  {
   "cell_type": "markdown",
   "id": "8c53118c",
   "metadata": {},
   "source": [
    "Pytorch dataset implementation "
   ]
  },
  {
   "cell_type": "code",
   "execution_count": 21,
   "id": "85362953",
   "metadata": {},
   "outputs": [
    {
     "name": "stdout",
     "output_type": "stream",
     "text": [
      "Input sequence 0: tensor([  40.,  367., 2885., 1464.])\n",
      "Target sequence 0:     tensor([ 367., 2885., 1464., 1807.])\n",
      "\n",
      "Input sequence 1: tensor([1807., 3619.,  402.,  271.])\n",
      "Target sequence 1:     tensor([ 3619.,   402.,   271., 10899.])\n",
      "\n",
      "Input sequence 2: tensor([10899.,  2138.,   257.,  7026.])\n",
      "Target sequence 2:     tensor([ 2138.,   257.,  7026., 15632.])\n",
      "\n"
     ]
    }
   ],
   "source": [
    "from torch.utils.data import Dataset\n",
    "import torch\n",
    "\n",
    "class GPTDatasetV1(Dataset):\n",
    "    def __init__(self, text, tokenizer, max_length, stride) -> None:\n",
    "        self.input_ids = []\n",
    "        self.output_ids = []\n",
    "\n",
    "        tokens = tokenizer.encode(text)\n",
    "\n",
    "        for i in range(0, len(tokens) - max_length, stride):\n",
    "            input_seq = tokens[i:i + max_length]\n",
    "            target_seq = tokens[i + 1:i + max_length + 1]\n",
    "\n",
    "            self.input_ids.append(input_seq)\n",
    "            self.output_ids.append(target_seq)\n",
    "\n",
    "    def __len__(self):\n",
    "        return len(self.input_ids)\n",
    "    \n",
    "    def __getitem__(self, index):\n",
    "        return torch.Tensor(self.input_ids[index]), torch.Tensor(self.output_ids[index])\n",
    "    \n",
    "\n",
    "# Example usage\n",
    "dataset = GPTDatasetV1(raw_text, tokenizer, max_length=4, stride=4)\n",
    "\n",
    "# Exercise: Implementing rolling windows\n",
    "for i in range(3):\n",
    "    input_seq, target_seq = dataset[i]\n",
    "    print(f\"Input sequence {i}: {input_seq}\")\n",
    "    print(f\"Target sequence {i}:     {target_seq}\")\n",
    "    print()\n",
    "    \n"
   ]
  },
  {
   "cell_type": "code",
   "execution_count": 22,
   "id": "fe85b68f",
   "metadata": {},
   "outputs": [
    {
     "name": "stdout",
     "output_type": "stream",
     "text": [
      "[tensor([[1.8900e+03, 2.6200e+02, 7.1700e+02, 6.4000e+02],\n",
      "        [4.3800e+02, 1.5464e+04, 1.1000e+01, 3.5500e+02],\n",
      "        [8.1720e+03, 6.4500e+02, 8.6500e+02, 2.9100e+02],\n",
      "        [6.3480e+03, 5.3910e+03, 1.1000e+01, 2.9000e+02],\n",
      "        [2.6200e+02, 5.0085e+04, 1.3000e+01, 8.8700e+02],\n",
      "        [1.5500e+03, 1.4580e+04, 1.1000e+01, 3.4000e+02],\n",
      "        [1.1000e+01, 5.0800e+02, 5.5000e+02, 1.8459e+04],\n",
      "        [8.9200e+02, 2.8600e+02, 3.4000e+02, 1.1000e+01]]), tensor([[2.6200e+02, 7.1700e+02, 6.4000e+02, 6.1600e+02],\n",
      "        [1.5464e+04, 1.1000e+01, 3.5500e+02, 3.4000e+02],\n",
      "        [6.4500e+02, 8.6500e+02, 2.9100e+02, 1.2000e+01],\n",
      "        [5.3910e+03, 1.1000e+01, 2.9000e+02, 4.6500e+02],\n",
      "        [5.0085e+04, 1.3000e+01, 8.8700e+02, 6.7300e+02],\n",
      "        [1.4580e+04, 1.1000e+01, 3.4000e+02, 1.1070e+03],\n",
      "        [5.0800e+02, 5.5000e+02, 1.8459e+04, 1.0680e+03],\n",
      "        [2.8600e+02, 3.4000e+02, 1.1000e+01, 6.1600e+02]])]\n"
     ]
    }
   ],
   "source": [
    "\n",
    "from torch.utils.data import DataLoader\n",
    "\n",
    "dataloader = DataLoader(dataset, batch_size=8, shuffle=True, drop_last=True)\n",
    "\n",
    "first_batch = next(iter(dataloader))\n",
    "print(first_batch)"
   ]
  },
  {
   "cell_type": "markdown",
   "id": "71bef1ef",
   "metadata": {},
   "source": [
    "Look at the positionnal embeddings"
   ]
  },
  {
   "cell_type": "code",
   "execution_count": 23,
   "id": "59db6dac",
   "metadata": {},
   "outputs": [
    {
     "name": "stdout",
     "output_type": "stream",
     "text": [
      "Vocabulary size: 50257\n"
     ]
    },
    {
     "data": {
      "text/plain": [
       "torch.Size([8, 4, 256])"
      ]
     },
     "execution_count": 23,
     "metadata": {},
     "output_type": "execute_result"
    }
   ],
   "source": [
    "from torch import nn\n",
    "import torch\n",
    "\n",
    "vocab_size = tokenizer.n_vocab\n",
    "print(\"Vocabulary size:\", vocab_size)\n",
    "output_dim = 256 \n",
    "\n",
    "token_embedding_layer = nn.Embedding(vocab_size, output_dim)\n",
    "example = next(iter(dataloader))[0].long()\n",
    "example = token_embedding_layer(example)\n",
    "\n",
    "example.shape"
   ]
  },
  {
   "cell_type": "code",
   "execution_count": 24,
   "id": "5bb96408",
   "metadata": {},
   "outputs": [
    {
     "data": {
      "text/plain": [
       "tensor([[ 0.1687,  0.3737, -1.0760,  ..., -1.2372, -0.3413, -0.8533],\n",
       "        [-1.4922, -1.4779, -0.1543,  ..., -0.1339, -0.5327,  1.4610],\n",
       "        [ 1.7481,  0.1681,  0.7422,  ...,  1.1188, -0.6430, -0.2751],\n",
       "        [-0.7316, -0.7112, -0.0641,  ..., -1.2814,  0.5148,  0.2427]],\n",
       "       grad_fn=<EmbeddingBackward0>)"
      ]
     },
     "execution_count": 24,
     "metadata": {},
     "output_type": "execute_result"
    }
   ],
   "source": [
    "positional_embedding_layer = nn.Embedding(context_window, output_dim)\n",
    "\n",
    "pos_embedding = positional_embedding_layer(torch.arange(context_window))\n",
    "pos_embedding\n"
   ]
  },
  {
   "cell_type": "code",
   "execution_count": 25,
   "id": "a792bb7d",
   "metadata": {},
   "outputs": [
    {
     "data": {
      "text/plain": [
       "torch.Size([8, 4, 256])"
      ]
     },
     "execution_count": 25,
     "metadata": {},
     "output_type": "execute_result"
    }
   ],
   "source": [
    "input_embedding = example + pos_embedding\n",
    "input_embedding.shape"
   ]
  },
  {
   "cell_type": "code",
   "execution_count": null,
   "id": "6b192a2a",
   "metadata": {},
   "outputs": [],
   "source": []
  }
 ],
 "metadata": {
  "kernelspec": {
   "display_name": "llms_from_scratch",
   "language": "python",
   "name": "python3"
  },
  "language_info": {
   "codemirror_mode": {
    "name": "ipython",
    "version": 3
   },
   "file_extension": ".py",
   "mimetype": "text/x-python",
   "name": "python",
   "nbconvert_exporter": "python",
   "pygments_lexer": "ipython3",
   "version": "3.13.2"
  }
 },
 "nbformat": 4,
 "nbformat_minor": 5
}
