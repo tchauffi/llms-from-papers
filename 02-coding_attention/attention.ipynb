{
 "cells": [
  {
   "cell_type": "markdown",
   "id": "c0865088",
   "metadata": {},
   "source": [
    "# Implementation of Attention\n",
    "\n",
    "In this notebook, we are going to implement several attention mechanisms from scratch using PyTorch."
   ]
  },
  {
   "cell_type": "code",
   "execution_count": 1,
   "id": "5e40a9cb",
   "metadata": {},
   "outputs": [],
   "source": [
    "import torch\n",
    "import torch.nn as nn\n",
    "import torch.nn.functional as F"
   ]
  },
  {
   "cell_type": "markdown",
   "id": "2e22adea",
   "metadata": {},
   "source": [
    "Here we are implementi a simple version of attention using only dot product. The input is a sequence of vectors (for example word embeddings) and the output is a sequence of the same length where each vector is a weighted sum of all the input vectors.\n",
    "\n",
    "\n",
    "The attention mechanism allows each position to attend to all positions in the sequence, creating a weighted combination based on similarity (dot product).\n",
    "\n",
    "This simplified version does not include trainable parameters but allow us to understand the core concept of attention."
   ]
  },
  {
   "cell_type": "code",
   "execution_count": 2,
   "id": "414e660f",
   "metadata": {},
   "outputs": [
    {
     "data": {
      "text/html": [
       "<svg id=\"mermaid-svg\" width=\"100%\" xmlns=\"http://www.w3.org/2000/svg\" class=\"flowchart\" style=\"max-width: 569.051025390625px;\" viewBox=\"0 0 569.051025390625 894\" role=\"graphics-document document\" aria-roledescription=\"flowchart-v2\" xmlns:xlink=\"http://www.w3.org/1999/xlink\"><style xmlns=\"http://www.w3.org/1999/xhtml\">@import url(\"https://cdnjs.cloudflare.com/ajax/libs/font-awesome/6.7.2/css/all.min.css\");</style><style>#mermaid-svg{font-family:\"trebuchet ms\",verdana,arial,sans-serif;font-size:16px;fill:#333;}@keyframes edge-animation-frame{from{stroke-dashoffset:0;}}@keyframes dash{to{stroke-dashoffset:0;}}#mermaid-svg .edge-animation-slow{stroke-dasharray:9,5!important;stroke-dashoffset:900;animation:dash 50s linear infinite;stroke-linecap:round;}#mermaid-svg .edge-animation-fast{stroke-dasharray:9,5!important;stroke-dashoffset:900;animation:dash 20s linear infinite;stroke-linecap:round;}#mermaid-svg .error-icon{fill:#552222;}#mermaid-svg .error-text{fill:#552222;stroke:#552222;}#mermaid-svg .edge-thickness-normal{stroke-width:1px;}#mermaid-svg .edge-thickness-thick{stroke-width:3.5px;}#mermaid-svg .edge-pattern-solid{stroke-dasharray:0;}#mermaid-svg .edge-thickness-invisible{stroke-width:0;fill:none;}#mermaid-svg .edge-pattern-dashed{stroke-dasharray:3;}#mermaid-svg .edge-pattern-dotted{stroke-dasharray:2;}#mermaid-svg .marker{fill:#333333;stroke:#333333;}#mermaid-svg .marker.cross{stroke:#333333;}#mermaid-svg svg{font-family:\"trebuchet ms\",verdana,arial,sans-serif;font-size:16px;}#mermaid-svg p{margin:0;}#mermaid-svg .label{font-family:\"trebuchet ms\",verdana,arial,sans-serif;color:#333;}#mermaid-svg .cluster-label text{fill:#333;}#mermaid-svg .cluster-label span{color:#333;}#mermaid-svg .cluster-label span p{background-color:transparent;}#mermaid-svg .label text,#mermaid-svg span{fill:#333;color:#333;}#mermaid-svg .node rect,#mermaid-svg .node circle,#mermaid-svg .node ellipse,#mermaid-svg .node polygon,#mermaid-svg .node path{fill:#ECECFF;stroke:#9370DB;stroke-width:1px;}#mermaid-svg .rough-node .label text,#mermaid-svg .node .label text,#mermaid-svg .image-shape .label,#mermaid-svg .icon-shape .label{text-anchor:middle;}#mermaid-svg .node .katex path{fill:#000;stroke:#000;stroke-width:1px;}#mermaid-svg .rough-node .label,#mermaid-svg .node .label,#mermaid-svg .image-shape .label,#mermaid-svg .icon-shape .label{text-align:center;}#mermaid-svg .node.clickable{cursor:pointer;}#mermaid-svg .root .anchor path{fill:#333333!important;stroke-width:0;stroke:#333333;}#mermaid-svg .arrowheadPath{fill:#333333;}#mermaid-svg .edgePath .path{stroke:#333333;stroke-width:2.0px;}#mermaid-svg .flowchart-link{stroke:#333333;fill:none;}#mermaid-svg .edgeLabel{background-color:rgba(232,232,232, 0.8);text-align:center;}#mermaid-svg .edgeLabel p{background-color:rgba(232,232,232, 0.8);}#mermaid-svg .edgeLabel rect{opacity:0.5;background-color:rgba(232,232,232, 0.8);fill:rgba(232,232,232, 0.8);}#mermaid-svg .labelBkg{background-color:rgba(232, 232, 232, 0.5);}#mermaid-svg .cluster rect{fill:#ffffde;stroke:#aaaa33;stroke-width:1px;}#mermaid-svg .cluster text{fill:#333;}#mermaid-svg .cluster span{color:#333;}#mermaid-svg div.mermaidTooltip{position:absolute;text-align:center;max-width:200px;padding:2px;font-family:\"trebuchet ms\",verdana,arial,sans-serif;font-size:12px;background:hsl(80, 100%, 96.2745098039%);border:1px solid #aaaa33;border-radius:2px;pointer-events:none;z-index:100;}#mermaid-svg .flowchartTitleText{text-anchor:middle;font-size:18px;fill:#333;}#mermaid-svg rect.text{fill:none;stroke-width:0;}#mermaid-svg .icon-shape,#mermaid-svg .image-shape{background-color:rgba(232,232,232, 0.8);text-align:center;}#mermaid-svg .icon-shape p,#mermaid-svg .image-shape p{background-color:rgba(232,232,232, 0.8);padding:2px;}#mermaid-svg .icon-shape rect,#mermaid-svg .image-shape rect{opacity:0.5;background-color:rgba(232,232,232, 0.8);fill:rgba(232,232,232, 0.8);}#mermaid-svg .label-icon{display:inline-block;height:1em;overflow:visible;vertical-align:-0.125em;}#mermaid-svg .node .label-icon path{fill:currentColor;stroke:revert;stroke-width:revert;}#mermaid-svg :root{--mermaid-font-family:\"trebuchet ms\",verdana,arial,sans-serif;}</style><g><marker id=\"mermaid-svg_flowchart-v2-pointEnd\" class=\"marker flowchart-v2\" viewBox=\"0 0 10 10\" refX=\"5\" refY=\"5\" markerUnits=\"userSpaceOnUse\" markerWidth=\"8\" markerHeight=\"8\" orient=\"auto\"><path d=\"M 0 0 L 10 5 L 0 10 z\" class=\"arrowMarkerPath\" style=\"stroke-width: 1; stroke-dasharray: 1, 0;\"/></marker><marker id=\"mermaid-svg_flowchart-v2-pointStart\" class=\"marker flowchart-v2\" viewBox=\"0 0 10 10\" refX=\"4.5\" refY=\"5\" markerUnits=\"userSpaceOnUse\" markerWidth=\"8\" markerHeight=\"8\" orient=\"auto\"><path d=\"M 0 5 L 10 10 L 10 0 z\" class=\"arrowMarkerPath\" style=\"stroke-width: 1; stroke-dasharray: 1, 0;\"/></marker><marker id=\"mermaid-svg_flowchart-v2-circleEnd\" class=\"marker flowchart-v2\" viewBox=\"0 0 10 10\" refX=\"11\" refY=\"5\" markerUnits=\"userSpaceOnUse\" markerWidth=\"11\" markerHeight=\"11\" orient=\"auto\"><circle cx=\"5\" cy=\"5\" r=\"5\" class=\"arrowMarkerPath\" style=\"stroke-width: 1; stroke-dasharray: 1, 0;\"/></marker><marker id=\"mermaid-svg_flowchart-v2-circleStart\" class=\"marker flowchart-v2\" viewBox=\"0 0 10 10\" refX=\"-1\" refY=\"5\" markerUnits=\"userSpaceOnUse\" markerWidth=\"11\" markerHeight=\"11\" orient=\"auto\"><circle cx=\"5\" cy=\"5\" r=\"5\" class=\"arrowMarkerPath\" style=\"stroke-width: 1; stroke-dasharray: 1, 0;\"/></marker><marker id=\"mermaid-svg_flowchart-v2-crossEnd\" class=\"marker cross flowchart-v2\" viewBox=\"0 0 11 11\" refX=\"12\" refY=\"5.2\" markerUnits=\"userSpaceOnUse\" markerWidth=\"11\" markerHeight=\"11\" orient=\"auto\"><path d=\"M 1,1 l 9,9 M 10,1 l -9,9\" class=\"arrowMarkerPath\" style=\"stroke-width: 2; stroke-dasharray: 1, 0;\"/></marker><marker id=\"mermaid-svg_flowchart-v2-crossStart\" class=\"marker cross flowchart-v2\" viewBox=\"0 0 11 11\" refX=\"-1\" refY=\"5.2\" markerUnits=\"userSpaceOnUse\" markerWidth=\"11\" markerHeight=\"11\" orient=\"auto\"><path d=\"M 1,1 l 9,9 M 10,1 l -9,9\" class=\"arrowMarkerPath\" style=\"stroke-width: 2; stroke-dasharray: 1, 0;\"/></marker><g class=\"root\"><g class=\"clusters\"/><g class=\"edgePaths\"><path d=\"M283.367,77.214L259.139,82.845C234.911,88.476,186.456,99.738,162.228,108.869C138,118,138,125,138,128.5L138,132\" id=\"L_A_B_0\" class=\" edge-thickness-normal edge-pattern-solid edge-thickness-normal edge-pattern-solid flowchart-link\" style=\"\" marker-end=\"url(#mermaid-svg_flowchart-v2-pointEnd)\"/><path d=\"M413.367,86L413.367,90.167C413.367,94.333,413.367,102.667,413.367,112.333C413.367,122,413.367,133,413.367,138.5L413.367,144\" id=\"L_A_C_0\" class=\" edge-thickness-normal edge-pattern-solid edge-thickness-normal edge-pattern-solid flowchart-link\" style=\"\" marker-end=\"url(#mermaid-svg_flowchart-v2-pointEnd)\"/><path d=\"M138,214L138,218.167C138,222.333,138,230.667,148.409,238.764C158.817,246.862,179.635,254.724,190.043,258.656L200.452,262.587\" id=\"L_B_D_0\" class=\" edge-thickness-normal edge-pattern-solid edge-thickness-normal edge-pattern-solid flowchart-link\" style=\"\" marker-end=\"url(#mermaid-svg_flowchart-v2-pointEnd)\"/><path d=\"M413.367,202L413.367,208.167C413.367,214.333,413.367,226.667,402.959,236.764C392.55,246.862,371.733,254.724,361.324,258.656L350.915,262.587\" id=\"L_C_D_0\" class=\" edge-thickness-normal edge-pattern-solid edge-thickness-normal edge-pattern-solid flowchart-link\" style=\"\" marker-end=\"url(#mermaid-svg_flowchart-v2-pointEnd)\"/><path d=\"M275.684,318L275.684,322.167C275.684,326.333,275.684,334.667,275.684,342.333C275.684,350,275.684,357,275.684,360.5L275.684,364\" id=\"L_D_E_0\" class=\" edge-thickness-normal edge-pattern-solid edge-thickness-normal edge-pattern-solid flowchart-link\" style=\"\" marker-end=\"url(#mermaid-svg_flowchart-v2-pointEnd)\"/><path d=\"M275.684,446L275.684,450.167C275.684,454.333,275.684,462.667,275.684,470.333C275.684,478,275.684,485,275.684,488.5L275.684,492\" id=\"L_E_F_0\" class=\" edge-thickness-normal edge-pattern-solid edge-thickness-normal edge-pattern-solid flowchart-link\" style=\"\" marker-end=\"url(#mermaid-svg_flowchart-v2-pointEnd)\"/><path d=\"M275.684,550L275.684,554.167C275.684,558.333,275.684,566.667,275.684,574.333C275.684,582,275.684,589,275.684,592.5L275.684,596\" id=\"L_F_G_0\" class=\" edge-thickness-normal edge-pattern-solid edge-thickness-normal edge-pattern-solid flowchart-link\" style=\"\" marker-end=\"url(#mermaid-svg_flowchart-v2-pointEnd)\"/><path d=\"M275.684,678L275.684,682.167C275.684,686.333,275.684,694.667,281.73,702.645C287.777,710.622,299.87,718.245,305.917,722.056L311.963,725.867\" id=\"L_G_H_0\" class=\" edge-thickness-normal edge-pattern-solid edge-thickness-normal edge-pattern-solid flowchart-link\" style=\"\" marker-end=\"url(#mermaid-svg_flowchart-v2-pointEnd)\"/><path d=\"M503.362,86L512.977,90.167C522.592,94.333,541.821,102.667,551.436,117.5C561.051,132.333,561.051,153.667,561.051,175C561.051,196.333,561.051,217.667,561.051,237C561.051,256.333,561.051,273.667,561.051,291C561.051,308.333,561.051,325.667,561.051,345C561.051,364.333,561.051,385.667,561.051,407C561.051,428.333,561.051,449.667,561.051,469C561.051,488.333,561.051,505.667,561.051,523C561.051,540.333,561.051,557.667,561.051,577C561.051,596.333,561.051,617.667,561.051,639C561.051,660.333,561.051,681.667,541.607,697.317C522.163,712.968,483.275,722.936,463.831,727.92L444.386,732.904\" id=\"L_A_H_0\" class=\" edge-thickness-normal edge-pattern-solid edge-thickness-normal edge-pattern-solid flowchart-link\" style=\"\" marker-end=\"url(#mermaid-svg_flowchart-v2-pointEnd)\"/><path d=\"M358.184,782L358.184,786.167C358.184,790.333,358.184,798.667,358.184,806.333C358.184,814,358.184,821,358.184,824.5L358.184,828\" id=\"L_H_I_0\" class=\" edge-thickness-normal edge-pattern-solid edge-thickness-normal edge-pattern-solid flowchart-link\" style=\"\" marker-end=\"url(#mermaid-svg_flowchart-v2-pointEnd)\"/></g><g class=\"edgeLabels\"><g class=\"edgeLabel\"><g class=\"label\" transform=\"translate(0, 0)\"><foreignObject width=\"0\" height=\"0\"><div xmlns=\"http://www.w3.org/1999/xhtml\" class=\"labelBkg\" style=\"display: table-cell; white-space: nowrap; line-height: 1.5; max-width: 200px; text-align: center;\"><span class=\"edgeLabel \"></span></div></foreignObject></g></g><g class=\"edgeLabel\"><g class=\"label\" transform=\"translate(0, 0)\"><foreignObject width=\"0\" height=\"0\"><div xmlns=\"http://www.w3.org/1999/xhtml\" class=\"labelBkg\" style=\"display: table-cell; white-space: nowrap; line-height: 1.5; max-width: 200px; text-align: center;\"><span class=\"edgeLabel \"></span></div></foreignObject></g></g><g class=\"edgeLabel\"><g class=\"label\" transform=\"translate(0, 0)\"><foreignObject width=\"0\" height=\"0\"><div xmlns=\"http://www.w3.org/1999/xhtml\" class=\"labelBkg\" style=\"display: table-cell; white-space: nowrap; line-height: 1.5; max-width: 200px; text-align: center;\"><span class=\"edgeLabel \"></span></div></foreignObject></g></g><g class=\"edgeLabel\"><g class=\"label\" transform=\"translate(0, 0)\"><foreignObject width=\"0\" height=\"0\"><div xmlns=\"http://www.w3.org/1999/xhtml\" class=\"labelBkg\" style=\"display: table-cell; white-space: nowrap; line-height: 1.5; max-width: 200px; text-align: center;\"><span class=\"edgeLabel \"></span></div></foreignObject></g></g><g class=\"edgeLabel\"><g class=\"label\" transform=\"translate(0, 0)\"><foreignObject width=\"0\" height=\"0\"><div xmlns=\"http://www.w3.org/1999/xhtml\" class=\"labelBkg\" style=\"display: table-cell; white-space: nowrap; line-height: 1.5; max-width: 200px; text-align: center;\"><span class=\"edgeLabel \"></span></div></foreignObject></g></g><g class=\"edgeLabel\"><g class=\"label\" transform=\"translate(0, 0)\"><foreignObject width=\"0\" height=\"0\"><div xmlns=\"http://www.w3.org/1999/xhtml\" class=\"labelBkg\" style=\"display: table-cell; white-space: nowrap; line-height: 1.5; max-width: 200px; text-align: center;\"><span class=\"edgeLabel \"></span></div></foreignObject></g></g><g class=\"edgeLabel\"><g class=\"label\" transform=\"translate(0, 0)\"><foreignObject width=\"0\" height=\"0\"><div xmlns=\"http://www.w3.org/1999/xhtml\" class=\"labelBkg\" style=\"display: table-cell; white-space: nowrap; line-height: 1.5; max-width: 200px; text-align: center;\"><span class=\"edgeLabel \"></span></div></foreignObject></g></g><g class=\"edgeLabel\"><g class=\"label\" transform=\"translate(0, 0)\"><foreignObject width=\"0\" height=\"0\"><div xmlns=\"http://www.w3.org/1999/xhtml\" class=\"labelBkg\" style=\"display: table-cell; white-space: nowrap; line-height: 1.5; max-width: 200px; text-align: center;\"><span class=\"edgeLabel \"></span></div></foreignObject></g></g><g class=\"edgeLabel\"><g class=\"label\" transform=\"translate(0, 0)\"><foreignObject width=\"0\" height=\"0\"><div xmlns=\"http://www.w3.org/1999/xhtml\" class=\"labelBkg\" style=\"display: table-cell; white-space: nowrap; line-height: 1.5; max-width: 200px; text-align: center;\"><span class=\"edgeLabel \"></span></div></foreignObject></g></g><g class=\"edgeLabel\"><g class=\"label\" transform=\"translate(0, 0)\"><foreignObject width=\"0\" height=\"0\"><div xmlns=\"http://www.w3.org/1999/xhtml\" class=\"labelBkg\" style=\"display: table-cell; white-space: nowrap; line-height: 1.5; max-width: 200px; text-align: center;\"><span class=\"edgeLabel \"></span></div></foreignObject></g></g></g><g class=\"nodes\"><g class=\"node default  \" id=\"flowchart-A-0\" transform=\"translate(413.3671875, 47)\"><rect class=\"basic label-container\" style=\"\" x=\"-130\" y=\"-39\" width=\"260\" height=\"78\"/><g class=\"label\" style=\"\" transform=\"translate(-100, -24)\"><rect/><foreignObject width=\"200\" height=\"48\"><div xmlns=\"http://www.w3.org/1999/xhtml\" style=\"display: table; white-space: break-spaces; line-height: 1.5; max-width: 200px; text-align: center; width: 200px;\"><span class=\"nodeLabel \"><p>Input: [Your, journey, starts, with, one, step]</p></span></div></foreignObject></g></g><g class=\"node default  \" id=\"flowchart-B-1\" transform=\"translate(138, 175)\"><rect class=\"basic label-container\" style=\"fill:#ff9999 !important\" x=\"-130\" y=\"-39\" width=\"260\" height=\"78\"/><g class=\"label\" style=\"\" transform=\"translate(-100, -24)\"><rect/><foreignObject width=\"200\" height=\"48\"><div xmlns=\"http://www.w3.org/1999/xhtml\" style=\"display: table; white-space: break-spaces; line-height: 1.5; max-width: 200px; text-align: center; width: 200px;\"><span class=\"nodeLabel \"><p>Select Query: journey (index 1)</p></span></div></foreignObject></g></g><g class=\"node default  \" id=\"flowchart-C-3\" transform=\"translate(413.3671875, 175)\"><rect class=\"basic label-container\" style=\"\" x=\"-95.3671875\" y=\"-27\" width=\"190.734375\" height=\"54\"/><g class=\"label\" style=\"\" transform=\"translate(-65.3671875, -12)\"><rect/><foreignObject width=\"130.734375\" height=\"24\"><div xmlns=\"http://www.w3.org/1999/xhtml\" style=\"display: table-cell; white-space: nowrap; line-height: 1.5; max-width: 200px; text-align: center;\"><span class=\"nodeLabel \"><p>All tokens as Keys</p></span></div></foreignObject></g></g><g class=\"node default  \" id=\"flowchart-D-5\" transform=\"translate(275.68359375, 291)\"><rect class=\"basic label-container\" style=\"\" x=\"-110.9296875\" y=\"-27\" width=\"221.859375\" height=\"54\"/><g class=\"label\" style=\"\" transform=\"translate(-80.9296875, -12)\"><rect/><foreignObject width=\"161.859375\" height=\"24\"><div xmlns=\"http://www.w3.org/1999/xhtml\" style=\"display: table-cell; white-space: nowrap; line-height: 1.5; max-width: 200px; text-align: center;\"><span class=\"nodeLabel \"><p>Compute Dot Products</p></span></div></foreignObject></g></g><g class=\"node default  \" id=\"flowchart-E-9\" transform=\"translate(275.68359375, 407)\"><rect class=\"basic label-container\" style=\"\" x=\"-130\" y=\"-39\" width=\"260\" height=\"78\"/><g class=\"label\" style=\"\" transform=\"translate(-100, -24)\"><rect/><foreignObject width=\"200\" height=\"48\"><div xmlns=\"http://www.w3.org/1999/xhtml\" style=\"display: table; white-space: break-spaces; line-height: 1.5; max-width: 200px; text-align: center; width: 200px;\"><span class=\"nodeLabel \"><p>Attention Scores: [1.96, 2.79, 2.85, 1.63, 1.78, 1.72]</p></span></div></foreignObject></g></g><g class=\"node default  \" id=\"flowchart-F-11\" transform=\"translate(275.68359375, 523)\"><rect class=\"basic label-container\" style=\"\" x=\"-81.578125\" y=\"-27\" width=\"163.15625\" height=\"54\"/><g class=\"label\" style=\"\" transform=\"translate(-51.578125, -12)\"><rect/><foreignObject width=\"103.15625\" height=\"24\"><div xmlns=\"http://www.w3.org/1999/xhtml\" style=\"display: table-cell; white-space: nowrap; line-height: 1.5; max-width: 200px; text-align: center;\"><span class=\"nodeLabel \"><p>Apply Softmax</p></span></div></foreignObject></g></g><g class=\"node default  \" id=\"flowchart-G-13\" transform=\"translate(275.68359375, 639)\"><rect class=\"basic label-container\" style=\"\" x=\"-130\" y=\"-39\" width=\"260\" height=\"78\"/><g class=\"label\" style=\"\" transform=\"translate(-100, -24)\"><rect/><foreignObject width=\"200\" height=\"48\"><div xmlns=\"http://www.w3.org/1999/xhtml\" style=\"display: table; white-space: break-spaces; line-height: 1.5; max-width: 200px; text-align: center; width: 200px;\"><span class=\"nodeLabel \"><p>Attention Weights: [0.13, 0.22, 0.24, 0.09, 0.14, 0.13]</p></span></div></foreignObject></g></g><g class=\"node default  \" id=\"flowchart-H-15\" transform=\"translate(358.18359375, 755)\"><rect class=\"basic label-container\" style=\"\" x=\"-82.328125\" y=\"-27\" width=\"164.65625\" height=\"54\"/><g class=\"label\" style=\"\" transform=\"translate(-52.328125, -12)\"><rect/><foreignObject width=\"104.65625\" height=\"24\"><div xmlns=\"http://www.w3.org/1999/xhtml\" style=\"display: table-cell; white-space: nowrap; line-height: 1.5; max-width: 200px; text-align: center;\"><span class=\"nodeLabel \"><p>Weighted Sum</p></span></div></foreignObject></g></g><g class=\"node default  \" id=\"flowchart-I-19\" transform=\"translate(358.18359375, 859)\"><rect class=\"basic label-container\" style=\"fill:#99ff99 !important\" x=\"-82.4765625\" y=\"-27\" width=\"164.953125\" height=\"54\"/><g class=\"label\" style=\"\" transform=\"translate(-52.4765625, -12)\"><rect/><foreignObject width=\"104.953125\" height=\"24\"><div xmlns=\"http://www.w3.org/1999/xhtml\" style=\"display: table-cell; white-space: nowrap; line-height: 1.5; max-width: 200px; text-align: center;\"><span class=\"nodeLabel \"><p>Context Vector</p></span></div></foreignObject></g></g></g></g></g></svg>"
      ],
      "text/plain": [
       "<mermaid.__main__.Mermaid at 0x116d82ba0>"
      ]
     },
     "execution_count": 2,
     "metadata": {},
     "output_type": "execute_result"
    }
   ],
   "source": [
    "from mermaid import Mermaid\n",
    "\n",
    "diagram = \"\"\"\n",
    "graph TD\n",
    "    A[\"Input: [Your, journey, starts, with, one, step]\"] --> B[\"Select Query: journey (index 1)\"]\n",
    "    A --> C[\"All tokens as Keys\"]\n",
    "    B --> D[\"Compute Dot Products\"]\n",
    "    C --> D\n",
    "    D --> E[\"Attention Scores: [1.96, 2.79, 2.85, 1.63, 1.78, 1.72]\"]\n",
    "    E --> F[\"Apply Softmax\"]\n",
    "    F --> G[\"Attention Weights: [0.13, 0.22, 0.24, 0.09, 0.14, 0.13]\"]\n",
    "    G --> H[\"Weighted Sum\"]\n",
    "    A --> H\n",
    "    H --> I[\"Context Vector\"]\n",
    "    \n",
    "    style B fill:#ff9999\n",
    "    style I fill:#99ff99\n",
    "\"\"\"\n",
    "\n",
    "Mermaid(diagram)"
   ]
  },
  {
   "cell_type": "code",
   "execution_count": 3,
   "id": "0ad0f7f6",
   "metadata": {},
   "outputs": [],
   "source": [
    "inputs = torch.tensor(\n",
    "    [[0.43, 0.15, 0.89], # Your\n",
    "     [0.55, 0.87, 0.66], # journey\n",
    "     [0.57, 0.85, 0.64], # starts\n",
    "     [0.22, 0.58, 0.33], # with\n",
    "     [0.77, 0.25, 0.10], # one\n",
    "     [0.05, 0.80, 0.55]] # step\n",
    ")\n"
   ]
  },
  {
   "cell_type": "code",
   "execution_count": 4,
   "id": "8a2d29ac",
   "metadata": {},
   "outputs": [
    {
     "data": {
      "text/plain": [
       "tensor([0.9544, 1.4950, 1.4754, 0.8434, 0.7070, 1.0865])"
      ]
     },
     "execution_count": 4,
     "metadata": {},
     "output_type": "execute_result"
    }
   ],
   "source": [
    "query = inputs[1]\n",
    "\n",
    "attention_score2 = torch.empty(inputs.shape[0])\n",
    "for i, key in enumerate(inputs):\n",
    "    attention_score2[i] = torch.dot(key, query)\n",
    "\n",
    "attention_score2 "
   ]
  },
  {
   "cell_type": "code",
   "execution_count": 5,
   "id": "2d8a501b",
   "metadata": {},
   "outputs": [
    {
     "data": {
      "text/plain": [
       "tensor([0.1385, 0.2379, 0.2333, 0.1240, 0.1082, 0.1581])"
      ]
     },
     "execution_count": 5,
     "metadata": {},
     "output_type": "execute_result"
    }
   ],
   "source": [
    "attention_weights2 = F.softmax(attention_score2, dim=0)\n",
    "attention_weights2"
   ]
  },
  {
   "cell_type": "code",
   "execution_count": 6,
   "id": "96a83329",
   "metadata": {},
   "outputs": [
    {
     "data": {
      "text/plain": [
       "tensor([0.4419, 0.6515, 0.5683])"
      ]
     },
     "execution_count": 6,
     "metadata": {},
     "output_type": "execute_result"
    }
   ],
   "source": [
    "query = inputs[1]\n",
    "\n",
    "context_vec_2 = torch.zeros(query.shape)\n",
    "for i, value in enumerate(inputs):\n",
    "    context_vec_2 += attention_weights2[i] * value\n",
    "context_vec_2"
   ]
  },
  {
   "cell_type": "code",
   "execution_count": 7,
   "id": "e633c3ce",
   "metadata": {},
   "outputs": [
    {
     "data": {
      "text/plain": [
       "(tensor([[0.4421, 0.5931, 0.5790],\n",
       "         [0.4419, 0.6515, 0.5683],\n",
       "         [0.4431, 0.6496, 0.5671],\n",
       "         [0.4304, 0.6298, 0.5510],\n",
       "         [0.4671, 0.5910, 0.5266],\n",
       "         [0.4177, 0.6503, 0.5645]]),\n",
       " tensor([[0.2098, 0.2006, 0.1981, 0.1242, 0.1220, 0.1452],\n",
       "         [0.1385, 0.2379, 0.2333, 0.1240, 0.1082, 0.1581],\n",
       "         [0.1390, 0.2369, 0.2326, 0.1242, 0.1108, 0.1565],\n",
       "         [0.1435, 0.2074, 0.2046, 0.1462, 0.1263, 0.1720],\n",
       "         [0.1526, 0.1958, 0.1975, 0.1367, 0.1879, 0.1295],\n",
       "         [0.1385, 0.2184, 0.2128, 0.1420, 0.0988, 0.1896]]))"
      ]
     },
     "execution_count": 7,
     "metadata": {},
     "output_type": "execute_result"
    }
   ],
   "source": [
    "class DotProductAttention(nn.Module):\n",
    "    \"\"\"\n",
    "    Dot Product Attention Mechanism\n",
    "    \"\"\"\n",
    "    def __init__(self):\n",
    "        super(DotProductAttention, self).__init__()\n",
    "\n",
    "    def forward(self, query):\n",
    "        \"\"\"\n",
    "        Forward pass of the attention mechanism.\n",
    "        Args:\n",
    "            query (torch.Tensor): The query tensor of shape (d_model,).\n",
    "        Returns:\n",
    "            dict: A dictionary containing the context vector and attention weights.\n",
    "        \"\"\"\n",
    "        atten_score = torch.empty((inputs.shape[0], query.shape[0]))\n",
    "        for i, key in enumerate(inputs):\n",
    "            for j, q in enumerate(query):\n",
    "                atten_score[i, j] = torch.dot(key, q)\n",
    "        atten_weights = F.softmax(atten_score, dim=-1)\n",
    "        context_vec = atten_weights @ query\n",
    "        return {\"context_vector\": context_vec, \"attention_weights\": atten_weights}\n",
    "\n",
    "\n",
    "attention = DotProductAttention()\n",
    "context_vec, atten_weights = attention(inputs).values()\n",
    "context_vec, atten_weights"
   ]
  },
  {
   "cell_type": "markdown",
   "id": "815c2340",
   "metadata": {},
   "source": [
    "Self-attention implementation \n",
    "\n",
    "This time we will implement self-attention, where the input sequence attends to itself. This is a key component of transformer models."
   ]
  },
  {
   "cell_type": "code",
   "execution_count": 8,
   "id": "9856cae4",
   "metadata": {},
   "outputs": [],
   "source": [
    "x_2 = inputs[1]\n",
    "d_in = x_2.shape[0]\n",
    "d_out = 2"
   ]
  },
  {
   "cell_type": "code",
   "execution_count": 9,
   "id": "27c64b4f",
   "metadata": {},
   "outputs": [],
   "source": [
    "torch.manual_seed(123)\n",
    "\n",
    "W_q = nn.Parameter(torch.randn(d_in, d_out), requires_grad=False) # requires_grad=True for training\n",
    "W_k = nn.Parameter(torch.randn(d_in, d_out), requires_grad=False)\n",
    "W_v = nn.Parameter(torch.randn(d_in, d_out), requires_grad=False)"
   ]
  },
  {
   "cell_type": "code",
   "execution_count": 10,
   "id": "c1c05f78",
   "metadata": {},
   "outputs": [
    {
     "data": {
      "text/plain": [
       "tensor([-1.1729, -0.0048])"
      ]
     },
     "execution_count": 10,
     "metadata": {},
     "output_type": "execute_result"
    }
   ],
   "source": [
    "query_2= x_2 @ W_q\n",
    "keys_2 = x_2 @ W_k\n",
    "values_2 = x_2 @ W_v\n",
    "\n",
    "query_2"
   ]
  },
  {
   "cell_type": "code",
   "execution_count": 11,
   "id": "92deb7c8",
   "metadata": {},
   "outputs": [
    {
     "data": {
      "text/plain": [
       "(tensor([[-0.1823, -0.6888],\n",
       "         [-0.1142, -0.7676],\n",
       "         [-0.1443, -0.7728],\n",
       "         [ 0.0434, -0.3580],\n",
       "         [-0.6467, -0.6476],\n",
       "         [ 0.3262, -0.3395]]),\n",
       " tensor([[ 0.1196, -0.3566],\n",
       "         [ 0.4107,  0.6274],\n",
       "         [ 0.4091,  0.6390],\n",
       "         [ 0.2436,  0.4182],\n",
       "         [ 0.2653,  0.6668],\n",
       "         [ 0.2728,  0.3242]]))"
      ]
     },
     "execution_count": 11,
     "metadata": {},
     "output_type": "execute_result"
    }
   ],
   "source": [
    "keys = inputs @ W_k\n",
    "values = inputs @ W_v\n",
    "keys, values"
   ]
  },
  {
   "cell_type": "code",
   "execution_count": 12,
   "id": "509a3c72",
   "metadata": {},
   "outputs": [
    {
     "data": {
      "text/plain": [
       "tensor(0.1376)"
      ]
     },
     "execution_count": 12,
     "metadata": {},
     "output_type": "execute_result"
    }
   ],
   "source": [
    "keys_2 = keys[1]\n",
    "attn_score22 = query_2.dot(keys_2)\n",
    "attn_score22"
   ]
  },
  {
   "cell_type": "code",
   "execution_count": 13,
   "id": "5af2048a",
   "metadata": {},
   "outputs": [
    {
     "data": {
      "text/plain": [
       "tensor([ 0.2172,  0.1376,  0.1730, -0.0491,  0.7616, -0.3809])"
      ]
     },
     "execution_count": 13,
     "metadata": {},
     "output_type": "execute_result"
    }
   ],
   "source": [
    "atten_score2 = query_2 @ keys.T\n",
    "atten_score2"
   ]
  },
  {
   "cell_type": "code",
   "execution_count": 14,
   "id": "717bf223",
   "metadata": {},
   "outputs": [
    {
     "data": {
      "text/plain": [
       "tensor([0.1704, 0.1611, 0.1652, 0.1412, 0.2505, 0.1117])"
      ]
     },
     "execution_count": 14,
     "metadata": {},
     "output_type": "execute_result"
    }
   ],
   "source": [
    "d_k = keys.shape[-1]\n",
    "\n",
    "atten_weights2 = torch.softmax(atten_score2 / d_k**0.5, dim=-1)\n",
    "atten_weights2"
   ]
  },
  {
   "cell_type": "code",
   "execution_count": 15,
   "id": "126dbae2",
   "metadata": {},
   "outputs": [
    {
     "data": {
      "text/plain": [
       "tensor([0.2854, 0.4081])"
      ]
     },
     "execution_count": 15,
     "metadata": {},
     "output_type": "execute_result"
    }
   ],
   "source": [
    "context_vec2 = atten_weights2 @ values\n",
    "context_vec2"
   ]
  },
  {
   "cell_type": "code",
   "execution_count": 16,
   "id": "666ff05e",
   "metadata": {},
   "outputs": [
    {
     "data": {
      "text/html": [
       "<svg id=\"mermaid-svg\" width=\"100%\" xmlns=\"http://www.w3.org/2000/svg\" class=\"flowchart\" style=\"max-width: 1864.79296875px;\" viewBox=\"0 0 1864.79296875 944\" role=\"graphics-document document\" aria-roledescription=\"flowchart-v2\" xmlns:xlink=\"http://www.w3.org/1999/xlink\"><style xmlns=\"http://www.w3.org/1999/xhtml\">@import url(\"https://cdnjs.cloudflare.com/ajax/libs/font-awesome/6.7.2/css/all.min.css\");</style><style>#mermaid-svg{font-family:\"trebuchet ms\",verdana,arial,sans-serif;font-size:16px;fill:#333;}@keyframes edge-animation-frame{from{stroke-dashoffset:0;}}@keyframes dash{to{stroke-dashoffset:0;}}#mermaid-svg .edge-animation-slow{stroke-dasharray:9,5!important;stroke-dashoffset:900;animation:dash 50s linear infinite;stroke-linecap:round;}#mermaid-svg .edge-animation-fast{stroke-dasharray:9,5!important;stroke-dashoffset:900;animation:dash 20s linear infinite;stroke-linecap:round;}#mermaid-svg .error-icon{fill:#552222;}#mermaid-svg .error-text{fill:#552222;stroke:#552222;}#mermaid-svg .edge-thickness-normal{stroke-width:1px;}#mermaid-svg .edge-thickness-thick{stroke-width:3.5px;}#mermaid-svg .edge-pattern-solid{stroke-dasharray:0;}#mermaid-svg .edge-thickness-invisible{stroke-width:0;fill:none;}#mermaid-svg .edge-pattern-dashed{stroke-dasharray:3;}#mermaid-svg .edge-pattern-dotted{stroke-dasharray:2;}#mermaid-svg .marker{fill:#333333;stroke:#333333;}#mermaid-svg .marker.cross{stroke:#333333;}#mermaid-svg svg{font-family:\"trebuchet ms\",verdana,arial,sans-serif;font-size:16px;}#mermaid-svg p{margin:0;}#mermaid-svg .label{font-family:\"trebuchet ms\",verdana,arial,sans-serif;color:#333;}#mermaid-svg .cluster-label text{fill:#333;}#mermaid-svg .cluster-label span{color:#333;}#mermaid-svg .cluster-label span p{background-color:transparent;}#mermaid-svg .label text,#mermaid-svg span{fill:#333;color:#333;}#mermaid-svg .node rect,#mermaid-svg .node circle,#mermaid-svg .node ellipse,#mermaid-svg .node polygon,#mermaid-svg .node path{fill:#ECECFF;stroke:#9370DB;stroke-width:1px;}#mermaid-svg .rough-node .label text,#mermaid-svg .node .label text,#mermaid-svg .image-shape .label,#mermaid-svg .icon-shape .label{text-anchor:middle;}#mermaid-svg .node .katex path{fill:#000;stroke:#000;stroke-width:1px;}#mermaid-svg .rough-node .label,#mermaid-svg .node .label,#mermaid-svg .image-shape .label,#mermaid-svg .icon-shape .label{text-align:center;}#mermaid-svg .node.clickable{cursor:pointer;}#mermaid-svg .root .anchor path{fill:#333333!important;stroke-width:0;stroke:#333333;}#mermaid-svg .arrowheadPath{fill:#333333;}#mermaid-svg .edgePath .path{stroke:#333333;stroke-width:2.0px;}#mermaid-svg .flowchart-link{stroke:#333333;fill:none;}#mermaid-svg .edgeLabel{background-color:rgba(232,232,232, 0.8);text-align:center;}#mermaid-svg .edgeLabel p{background-color:rgba(232,232,232, 0.8);}#mermaid-svg .edgeLabel rect{opacity:0.5;background-color:rgba(232,232,232, 0.8);fill:rgba(232,232,232, 0.8);}#mermaid-svg .labelBkg{background-color:rgba(232, 232, 232, 0.5);}#mermaid-svg .cluster rect{fill:#ffffde;stroke:#aaaa33;stroke-width:1px;}#mermaid-svg .cluster text{fill:#333;}#mermaid-svg .cluster span{color:#333;}#mermaid-svg div.mermaidTooltip{position:absolute;text-align:center;max-width:200px;padding:2px;font-family:\"trebuchet ms\",verdana,arial,sans-serif;font-size:12px;background:hsl(80, 100%, 96.2745098039%);border:1px solid #aaaa33;border-radius:2px;pointer-events:none;z-index:100;}#mermaid-svg .flowchartTitleText{text-anchor:middle;font-size:18px;fill:#333;}#mermaid-svg rect.text{fill:none;stroke-width:0;}#mermaid-svg .icon-shape,#mermaid-svg .image-shape{background-color:rgba(232,232,232, 0.8);text-align:center;}#mermaid-svg .icon-shape p,#mermaid-svg .image-shape p{background-color:rgba(232,232,232, 0.8);padding:2px;}#mermaid-svg .icon-shape rect,#mermaid-svg .image-shape rect{opacity:0.5;background-color:rgba(232,232,232, 0.8);fill:rgba(232,232,232, 0.8);}#mermaid-svg .label-icon{display:inline-block;height:1em;overflow:visible;vertical-align:-0.125em;}#mermaid-svg .node .label-icon path{fill:currentColor;stroke:revert;stroke-width:revert;}#mermaid-svg :root{--mermaid-font-family:\"trebuchet ms\",verdana,arial,sans-serif;}</style><g><marker id=\"mermaid-svg_flowchart-v2-pointEnd\" class=\"marker flowchart-v2\" viewBox=\"0 0 10 10\" refX=\"5\" refY=\"5\" markerUnits=\"userSpaceOnUse\" markerWidth=\"8\" markerHeight=\"8\" orient=\"auto\"><path d=\"M 0 0 L 10 5 L 0 10 z\" class=\"arrowMarkerPath\" style=\"stroke-width: 1; stroke-dasharray: 1, 0;\"/></marker><marker id=\"mermaid-svg_flowchart-v2-pointStart\" class=\"marker flowchart-v2\" viewBox=\"0 0 10 10\" refX=\"4.5\" refY=\"5\" markerUnits=\"userSpaceOnUse\" markerWidth=\"8\" markerHeight=\"8\" orient=\"auto\"><path d=\"M 0 5 L 10 10 L 10 0 z\" class=\"arrowMarkerPath\" style=\"stroke-width: 1; stroke-dasharray: 1, 0;\"/></marker><marker id=\"mermaid-svg_flowchart-v2-circleEnd\" class=\"marker flowchart-v2\" viewBox=\"0 0 10 10\" refX=\"11\" refY=\"5\" markerUnits=\"userSpaceOnUse\" markerWidth=\"11\" markerHeight=\"11\" orient=\"auto\"><circle cx=\"5\" cy=\"5\" r=\"5\" class=\"arrowMarkerPath\" style=\"stroke-width: 1; stroke-dasharray: 1, 0;\"/></marker><marker id=\"mermaid-svg_flowchart-v2-circleStart\" class=\"marker flowchart-v2\" viewBox=\"0 0 10 10\" refX=\"-1\" refY=\"5\" markerUnits=\"userSpaceOnUse\" markerWidth=\"11\" markerHeight=\"11\" orient=\"auto\"><circle cx=\"5\" cy=\"5\" r=\"5\" class=\"arrowMarkerPath\" style=\"stroke-width: 1; stroke-dasharray: 1, 0;\"/></marker><marker id=\"mermaid-svg_flowchart-v2-crossEnd\" class=\"marker cross flowchart-v2\" viewBox=\"0 0 11 11\" refX=\"12\" refY=\"5.2\" markerUnits=\"userSpaceOnUse\" markerWidth=\"11\" markerHeight=\"11\" orient=\"auto\"><path d=\"M 1,1 l 9,9 M 10,1 l -9,9\" class=\"arrowMarkerPath\" style=\"stroke-width: 2; stroke-dasharray: 1, 0;\"/></marker><marker id=\"mermaid-svg_flowchart-v2-crossStart\" class=\"marker cross flowchart-v2\" viewBox=\"0 0 11 11\" refX=\"-1\" refY=\"5.2\" markerUnits=\"userSpaceOnUse\" markerWidth=\"11\" markerHeight=\"11\" orient=\"auto\"><path d=\"M 1,1 l 9,9 M 10,1 l -9,9\" class=\"arrowMarkerPath\" style=\"stroke-width: 2; stroke-dasharray: 1, 0;\"/></marker><g class=\"root\"><g class=\"clusters\"><g class=\"cluster \" id=\"Output\" data-look=\"classic\"><rect style=\"\" x=\"833.69921875\" y=\"832\" width=\"234.953125\" height=\"104\"/><g class=\"cluster-label \" transform=\"translate(927.16015625, 832)\"><foreignObject width=\"48.03125\" height=\"24\"><div xmlns=\"http://www.w3.org/1999/xhtml\" style=\"display: table-cell; white-space: nowrap; line-height: 1.5; max-width: 200px; text-align: center;\"><span class=\"nodeLabel \"><p>Output</p></span></div></foreignObject></g></g><g class=\"cluster \" id=\"subGraph3\" data-look=\"classic\"><rect style=\"\" x=\"66.30078125\" y=\"470\" width=\"1721.25\" height=\"312\"/><g class=\"cluster-label \" transform=\"translate(852.22265625, 470)\"><foreignObject width=\"149.40625\" height=\"24\"><div xmlns=\"http://www.w3.org/1999/xhtml\" style=\"display: table-cell; white-space: nowrap; line-height: 1.5; max-width: 200px; text-align: center;\"><span class=\"nodeLabel \"><p>Attention Mechanism</p></span></div></foreignObject></g></g><g class=\"cluster \" id=\"subGraph2\" data-look=\"classic\"><rect style=\"\" x=\"11.03515625\" y=\"316\" width=\"1821\" height=\"104\"/><g class=\"cluster-label \" transform=\"translate(858.83203125, 316)\"><foreignObject width=\"125.40625\" height=\"24\"><div xmlns=\"http://www.w3.org/1999/xhtml\" style=\"display: table-cell; white-space: nowrap; line-height: 1.5; max-width: 200px; text-align: center;\"><span class=\"nodeLabel \"><p>Projected Vectors</p></span></div></foreignObject></g></g><g class=\"cluster \" id=\"subGraph1\" data-look=\"classic\"><rect style=\"\" x=\"34.23828125\" y=\"162\" width=\"1794.81640625\" height=\"104\"/><g class=\"cluster-label \" transform=\"translate(867.607421875, 162)\"><foreignObject width=\"128.078125\" height=\"24\"><div xmlns=\"http://www.w3.org/1999/xhtml\" style=\"display: table-cell; white-space: nowrap; line-height: 1.5; max-width: 200px; text-align: center;\"><span class=\"nodeLabel \"><p>Linear Projections</p></span></div></foreignObject></g></g><g class=\"cluster \" id=\"subGraph0\" data-look=\"classic\"><rect style=\"\" x=\"8\" y=\"8\" width=\"1848.79296875\" height=\"104\"/><g class=\"cluster-label \" transform=\"translate(867.904296875, 8)\"><foreignObject width=\"128.984375\" height=\"24\"><div xmlns=\"http://www.w3.org/1999/xhtml\" style=\"display: table-cell; white-space: nowrap; line-height: 1.5; max-width: 200px; text-align: center;\"><span class=\"nodeLabel \"><p>Input Embeddings</p></span></div></foreignObject></g></g></g><g class=\"edgePaths\"><path d=\"M164.072,87L152.554,91.167C141.036,95.333,118,103.667,106.483,112C94.965,120.333,94.965,128.667,94.965,137C94.965,145.333,94.965,153.667,98.509,161.519C102.054,169.372,109.142,176.744,112.687,180.431L116.231,184.117\" id=\"L_A_G_0\" class=\" edge-thickness-normal edge-pattern-solid edge-thickness-normal edge-pattern-solid flowchart-link\" style=\"\" marker-end=\"url(#mermaid-svg_flowchart-v2-pointEnd)\"/><path d=\"M402.473,77.265L360.948,83.054C319.423,88.843,236.374,100.422,194.849,110.377C153.324,120.333,153.324,128.667,153.324,137C153.324,145.333,153.324,153.667,152.76,161.342C152.196,169.017,151.068,176.034,150.504,179.542L149.94,183.051\" id=\"L_B_G_0\" class=\" edge-thickness-normal edge-pattern-solid edge-thickness-normal edge-pattern-solid flowchart-link\" style=\"\" marker-end=\"url(#mermaid-svg_flowchart-v2-pointEnd)\"/><path d=\"M700.145,69.46L612.341,76.55C524.538,83.64,348.931,97.82,261.128,109.077C173.324,120.333,173.324,128.667,173.324,137C173.324,145.333,173.324,153.667,171.371,161.415C169.418,169.163,165.511,176.326,163.558,179.907L161.605,183.488\" id=\"L_C_G_0\" class=\" edge-thickness-normal edge-pattern-solid edge-thickness-normal edge-pattern-solid flowchart-link\" style=\"\" marker-end=\"url(#mermaid-svg_flowchart-v2-pointEnd)\"/><path d=\"M984.457,66.44L852.602,74.033C720.746,81.627,457.035,96.813,325.18,108.573C193.324,120.333,193.324,128.667,193.324,137C193.324,145.333,193.324,153.667,189.903,161.512C186.482,169.357,179.64,176.714,176.219,180.392L172.799,184.071\" id=\"L_D_G_0\" class=\" edge-thickness-normal edge-pattern-solid edge-thickness-normal edge-pattern-solid flowchart-link\" style=\"\" marker-end=\"url(#mermaid-svg_flowchart-v2-pointEnd)\"/><path d=\"M1258.113,64.992L1083.982,72.826C909.85,80.661,561.587,96.331,387.456,108.332C213.324,120.333,213.324,128.667,213.324,137C213.324,145.333,213.324,153.667,208.377,161.596C203.43,169.526,193.537,177.052,188.59,180.815L183.643,184.578\" id=\"L_E_G_0\" class=\" edge-thickness-normal edge-pattern-solid edge-thickness-normal edge-pattern-solid flowchart-link\" style=\"\" marker-end=\"url(#mermaid-svg_flowchart-v2-pointEnd)\"/><path d=\"M1530.004,64.159L1313.891,72.132C1097.777,80.106,665.551,96.053,449.438,108.193C233.324,120.333,233.324,128.667,233.324,137C233.324,145.333,233.324,153.667,226.819,161.662C220.313,169.657,207.302,177.314,200.797,181.143L194.291,184.971\" id=\"L_F_G_0\" class=\" edge-thickness-normal edge-pattern-solid edge-thickness-normal edge-pattern-solid flowchart-link\" style=\"\" marker-end=\"url(#mermaid-svg_flowchart-v2-pointEnd)\"/><path d=\"M246.297,87L247.468,91.167C248.639,95.333,250.982,103.667,252.153,112C253.324,120.333,253.324,128.667,253.324,137C253.324,145.333,253.324,153.667,361.994,165.883C470.664,178.099,688.003,194.198,796.673,202.248L905.343,210.297\" id=\"L_A_H_0\" class=\" edge-thickness-normal edge-pattern-solid edge-thickness-normal edge-pattern-solid flowchart-link\" style=\"\" marker-end=\"url(#mermaid-svg_flowchart-v2-pointEnd)\"/><path d=\"M533.898,87L535.07,91.167C536.241,95.333,538.583,103.667,539.755,112C540.926,120.333,540.926,128.667,540.926,137C540.926,145.333,540.926,153.667,601.665,165.455C662.405,177.243,783.884,192.487,844.624,200.108L905.363,207.73\" id=\"L_B_H_0\" class=\" edge-thickness-normal edge-pattern-solid edge-thickness-normal edge-pattern-solid flowchart-link\" style=\"\" marker-end=\"url(#mermaid-svg_flowchart-v2-pointEnd)\"/><path d=\"M824.89,87L826.062,91.167C827.233,95.333,829.575,103.667,830.747,112C831.918,120.333,831.918,128.667,831.918,137C831.918,145.333,831.918,153.667,844.206,163.011C856.494,172.355,881.07,182.71,893.358,187.887L905.646,193.065\" id=\"L_C_H_0\" class=\" edge-thickness-normal edge-pattern-solid edge-thickness-normal edge-pattern-solid flowchart-link\" style=\"\" marker-end=\"url(#mermaid-svg_flowchart-v2-pointEnd)\"/><path d=\"M1103.875,87L1105.046,91.167C1106.217,95.333,1108.56,103.667,1109.731,112C1110.902,120.333,1110.902,128.667,1110.902,137C1110.902,145.333,1110.902,153.667,1093.273,163.726C1075.643,173.785,1040.385,185.571,1022.755,191.464L1005.126,197.356\" id=\"L_D_H_0\" class=\" edge-thickness-normal edge-pattern-solid edge-thickness-normal edge-pattern-solid flowchart-link\" style=\"\" marker-end=\"url(#mermaid-svg_flowchart-v2-pointEnd)\"/><path d=\"M1376.648,87L1377.82,91.167C1378.991,95.333,1381.333,103.667,1382.505,112C1383.676,120.333,1383.676,128.667,1383.676,137C1383.676,145.333,1383.676,153.667,1320.614,165.489C1257.551,177.311,1131.427,192.622,1068.365,200.278L1005.303,207.934\" id=\"L_E_H_0\" class=\" edge-thickness-normal edge-pattern-solid edge-thickness-normal edge-pattern-solid flowchart-link\" style=\"\" marker-end=\"url(#mermaid-svg_flowchart-v2-pointEnd)\"/><path d=\"M1642.465,87L1642.425,91.167C1642.386,95.333,1642.306,103.667,1642.266,112C1642.227,120.333,1642.227,128.667,1642.227,137C1642.227,145.333,1642.227,153.667,1536.076,165.869C1429.925,178.072,1217.623,194.144,1111.472,202.18L1005.321,210.216\" id=\"L_F_H_0\" class=\" edge-thickness-normal edge-pattern-solid edge-thickness-normal edge-pattern-solid flowchart-link\" style=\"\" marker-end=\"url(#mermaid-svg_flowchart-v2-pointEnd)\"/><path d=\"M352.473,64.156L570.765,72.13C789.057,80.104,1225.642,96.052,1443.934,108.193C1662.227,120.333,1662.227,128.667,1662.227,137C1662.227,145.333,1662.227,153.667,1668.151,161.64C1674.076,169.613,1685.926,177.225,1691.851,181.032L1697.775,184.838\" id=\"L_A_I_0\" class=\" edge-thickness-normal edge-pattern-solid edge-thickness-normal edge-pattern-solid flowchart-link\" style=\"\" marker-end=\"url(#mermaid-svg_flowchart-v2-pointEnd)\"/><path d=\"M650.145,65.571L822.158,73.309C994.172,81.047,1338.199,96.524,1510.213,108.428C1682.227,120.333,1682.227,128.667,1682.227,137C1682.227,145.333,1682.227,153.667,1686.603,161.567C1690.979,169.468,1699.731,176.936,1704.106,180.67L1708.482,184.404\" id=\"L_B_I_0\" class=\" edge-thickness-normal edge-pattern-solid edge-thickness-normal edge-pattern-solid flowchart-link\" style=\"\" marker-end=\"url(#mermaid-svg_flowchart-v2-pointEnd)\"/><path d=\"M934.457,66.884L1062.419,74.404C1190.38,81.923,1446.303,96.961,1574.265,108.647C1702.227,120.333,1702.227,128.667,1702.227,137C1702.227,145.333,1702.227,153.667,1705.095,161.476C1707.963,169.286,1713.699,176.571,1716.567,180.214L1719.435,183.857\" id=\"L_C_I_0\" class=\" edge-thickness-normal edge-pattern-solid edge-thickness-normal edge-pattern-solid flowchart-link\" style=\"\" marker-end=\"url(#mermaid-svg_flowchart-v2-pointEnd)\"/><path d=\"M1208.113,69.29L1293.799,76.408C1379.484,83.527,1550.855,97.763,1636.541,109.048C1722.227,120.333,1722.227,128.667,1722.227,137C1722.227,145.333,1722.227,153.667,1723.656,161.382C1725.084,169.097,1727.942,176.193,1729.371,179.741L1730.8,183.29\" id=\"L_D_I_0\" class=\" edge-thickness-normal edge-pattern-solid edge-thickness-normal edge-pattern-solid flowchart-link\" style=\"\" marker-end=\"url(#mermaid-svg_flowchart-v2-pointEnd)\"/><path d=\"M1480.004,75.46L1523.708,81.55C1567.411,87.64,1654.819,99.82,1698.523,110.077C1742.227,120.333,1742.227,128.667,1742.227,137C1742.227,145.333,1742.227,153.667,1742.29,161.333C1742.353,169,1742.48,176,1742.543,179.501L1742.607,183.001\" id=\"L_E_I_0\" class=\" edge-thickness-normal edge-pattern-solid edge-thickness-normal edge-pattern-solid flowchart-link\" style=\"\" marker-end=\"url(#mermaid-svg_flowchart-v2-pointEnd)\"/><path d=\"M1712.991,87L1723.835,91.167C1734.679,95.333,1756.367,103.667,1767.211,112C1778.055,120.333,1778.055,128.667,1778.055,137C1778.055,145.333,1778.055,153.667,1775.631,161.446C1773.207,169.226,1768.359,176.452,1765.935,180.065L1763.511,183.678\" id=\"L_F_I_0\" class=\" edge-thickness-normal edge-pattern-solid edge-thickness-normal edge-pattern-solid flowchart-link\" style=\"\" marker-end=\"url(#mermaid-svg_flowchart-v2-pointEnd)\"/><path d=\"M144.965,241L144.965,245.167C144.965,249.333,144.965,257.667,144.965,266C144.965,274.333,144.965,282.667,144.965,291C144.965,299.333,144.965,307.667,144.965,315.333C144.965,323,144.965,330,144.965,333.5L144.965,337\" id=\"L_G_J_0\" class=\" edge-thickness-normal edge-pattern-solid edge-thickness-normal edge-pattern-solid flowchart-link\" style=\"\" marker-end=\"url(#mermaid-svg_flowchart-v2-pointEnd)\"/><path d=\"M955.332,241L955.332,245.167C955.332,249.333,955.332,257.667,955.332,266C955.332,274.333,955.332,282.667,955.332,291C955.332,299.333,955.332,307.667,955.332,315.333C955.332,323,955.332,330,955.332,333.5L955.332,337\" id=\"L_H_K_0\" class=\" edge-thickness-normal edge-pattern-solid edge-thickness-normal edge-pattern-solid flowchart-link\" style=\"\" marker-end=\"url(#mermaid-svg_flowchart-v2-pointEnd)\"/><path d=\"M1743.168,241L1743.168,245.167C1743.168,249.333,1743.168,257.667,1743.168,266C1743.168,274.333,1743.168,282.667,1743.168,291C1743.168,299.333,1743.168,307.667,1743.168,315.333C1743.168,323,1743.168,330,1743.168,333.5L1743.168,337\" id=\"L_I_L_0\" class=\" edge-thickness-normal edge-pattern-solid edge-thickness-normal edge-pattern-solid flowchart-link\" style=\"\" marker-end=\"url(#mermaid-svg_flowchart-v2-pointEnd)\"/><path d=\"M144.965,395L144.965,399.167C144.965,403.333,144.965,411.667,144.965,420C144.965,428.333,144.965,436.667,144.965,445C144.965,453.333,144.965,461.667,190.169,472.599C235.373,483.532,325.781,497.063,370.985,503.829L416.189,510.595\" id=\"L_J_M_0\" class=\" edge-thickness-normal edge-pattern-solid edge-thickness-normal edge-pattern-solid flowchart-link\" style=\"\" marker-end=\"url(#mermaid-svg_flowchart-v2-pointEnd)\"/><path d=\"M955.332,395L955.332,399.167C955.332,403.333,955.332,411.667,955.332,420C955.332,428.333,955.332,436.667,955.332,445C955.332,453.333,955.332,461.667,890.877,473.073C826.423,484.48,697.513,498.959,633.059,506.199L568.604,513.439\" id=\"L_K_M_0\" class=\" edge-thickness-normal edge-pattern-solid edge-thickness-normal edge-pattern-solid flowchart-link\" style=\"\" marker-end=\"url(#mermaid-svg_flowchart-v2-pointEnd)\"/><path d=\"M492.387,549L492.387,553.167C492.387,557.333,492.387,565.667,492.387,573.333C492.387,581,492.387,588,492.387,591.5L492.387,595\" id=\"L_M_N_0\" class=\" edge-thickness-normal edge-pattern-solid edge-thickness-normal edge-pattern-solid flowchart-link\" style=\"\" marker-end=\"url(#mermaid-svg_flowchart-v2-pointEnd)\"/><path d=\"M492.387,653L492.387,657.167C492.387,661.333,492.387,669.667,554.468,680.87C616.549,692.073,740.711,706.146,802.792,713.182L864.873,720.218\" id=\"L_N_O_0\" class=\" edge-thickness-normal edge-pattern-solid edge-thickness-normal edge-pattern-solid flowchart-link\" style=\"\" marker-end=\"url(#mermaid-svg_flowchart-v2-pointEnd)\"/><path d=\"M1743.168,395L1743.168,399.167C1743.168,403.333,1743.168,411.667,1743.168,420C1743.168,428.333,1743.168,436.667,1743.168,445C1743.168,453.333,1743.168,461.667,1743.168,474.5C1743.168,487.333,1743.168,504.667,1743.168,522C1743.168,539.333,1743.168,556.667,1743.168,574C1743.168,591.333,1743.168,608.667,1743.168,626C1743.168,643.333,1743.168,660.667,1625.556,677.055C1507.944,693.444,1272.72,708.888,1155.107,716.61L1037.495,724.333\" id=\"L_L_O_0\" class=\" edge-thickness-normal edge-pattern-solid edge-thickness-normal edge-pattern-solid flowchart-link\" style=\"\" marker-end=\"url(#mermaid-svg_flowchart-v2-pointEnd)\"/><path d=\"M951.176,757L951.176,761.167C951.176,765.333,951.176,773.667,951.176,782C951.176,790.333,951.176,798.667,951.176,807C951.176,815.333,951.176,823.667,951.176,831.333C951.176,839,951.176,846,951.176,849.5L951.176,853\" id=\"L_O_P_0\" class=\" edge-thickness-normal edge-pattern-solid edge-thickness-normal edge-pattern-solid flowchart-link\" style=\"\" marker-end=\"url(#mermaid-svg_flowchart-v2-pointEnd)\"/></g><g class=\"edgeLabels\"><g class=\"edgeLabel\"><g class=\"label\" transform=\"translate(0, 0)\"><foreignObject width=\"0\" height=\"0\"><div xmlns=\"http://www.w3.org/1999/xhtml\" class=\"labelBkg\" style=\"display: table-cell; white-space: nowrap; line-height: 1.5; max-width: 200px; text-align: center;\"><span class=\"edgeLabel \"></span></div></foreignObject></g></g><g class=\"edgeLabel\"><g class=\"label\" transform=\"translate(0, 0)\"><foreignObject width=\"0\" height=\"0\"><div xmlns=\"http://www.w3.org/1999/xhtml\" class=\"labelBkg\" style=\"display: table-cell; white-space: nowrap; line-height: 1.5; max-width: 200px; text-align: center;\"><span class=\"edgeLabel \"></span></div></foreignObject></g></g><g class=\"edgeLabel\"><g class=\"label\" transform=\"translate(0, 0)\"><foreignObject width=\"0\" height=\"0\"><div xmlns=\"http://www.w3.org/1999/xhtml\" class=\"labelBkg\" style=\"display: table-cell; white-space: nowrap; line-height: 1.5; max-width: 200px; text-align: center;\"><span class=\"edgeLabel \"></span></div></foreignObject></g></g><g class=\"edgeLabel\"><g class=\"label\" transform=\"translate(0, 0)\"><foreignObject width=\"0\" height=\"0\"><div xmlns=\"http://www.w3.org/1999/xhtml\" class=\"labelBkg\" style=\"display: table-cell; white-space: nowrap; line-height: 1.5; max-width: 200px; text-align: center;\"><span class=\"edgeLabel \"></span></div></foreignObject></g></g><g class=\"edgeLabel\"><g class=\"label\" transform=\"translate(0, 0)\"><foreignObject width=\"0\" height=\"0\"><div xmlns=\"http://www.w3.org/1999/xhtml\" class=\"labelBkg\" style=\"display: table-cell; white-space: nowrap; line-height: 1.5; max-width: 200px; text-align: center;\"><span class=\"edgeLabel \"></span></div></foreignObject></g></g><g class=\"edgeLabel\"><g class=\"label\" transform=\"translate(0, 0)\"><foreignObject width=\"0\" height=\"0\"><div xmlns=\"http://www.w3.org/1999/xhtml\" class=\"labelBkg\" style=\"display: table-cell; white-space: nowrap; line-height: 1.5; max-width: 200px; text-align: center;\"><span class=\"edgeLabel \"></span></div></foreignObject></g></g><g class=\"edgeLabel\"><g class=\"label\" transform=\"translate(0, 0)\"><foreignObject width=\"0\" height=\"0\"><div xmlns=\"http://www.w3.org/1999/xhtml\" class=\"labelBkg\" style=\"display: table-cell; white-space: nowrap; line-height: 1.5; max-width: 200px; text-align: center;\"><span class=\"edgeLabel \"></span></div></foreignObject></g></g><g class=\"edgeLabel\"><g class=\"label\" transform=\"translate(0, 0)\"><foreignObject width=\"0\" height=\"0\"><div xmlns=\"http://www.w3.org/1999/xhtml\" class=\"labelBkg\" style=\"display: table-cell; white-space: nowrap; line-height: 1.5; max-width: 200px; text-align: center;\"><span class=\"edgeLabel \"></span></div></foreignObject></g></g><g class=\"edgeLabel\"><g class=\"label\" transform=\"translate(0, 0)\"><foreignObject width=\"0\" height=\"0\"><div xmlns=\"http://www.w3.org/1999/xhtml\" class=\"labelBkg\" style=\"display: table-cell; white-space: nowrap; line-height: 1.5; max-width: 200px; text-align: center;\"><span class=\"edgeLabel \"></span></div></foreignObject></g></g><g class=\"edgeLabel\"><g class=\"label\" transform=\"translate(0, 0)\"><foreignObject width=\"0\" height=\"0\"><div xmlns=\"http://www.w3.org/1999/xhtml\" class=\"labelBkg\" style=\"display: table-cell; white-space: nowrap; line-height: 1.5; max-width: 200px; text-align: center;\"><span class=\"edgeLabel \"></span></div></foreignObject></g></g><g class=\"edgeLabel\"><g class=\"label\" transform=\"translate(0, 0)\"><foreignObject width=\"0\" height=\"0\"><div xmlns=\"http://www.w3.org/1999/xhtml\" class=\"labelBkg\" style=\"display: table-cell; white-space: nowrap; line-height: 1.5; max-width: 200px; text-align: center;\"><span class=\"edgeLabel \"></span></div></foreignObject></g></g><g class=\"edgeLabel\"><g class=\"label\" transform=\"translate(0, 0)\"><foreignObject width=\"0\" height=\"0\"><div xmlns=\"http://www.w3.org/1999/xhtml\" class=\"labelBkg\" style=\"display: table-cell; white-space: nowrap; line-height: 1.5; max-width: 200px; text-align: center;\"><span class=\"edgeLabel \"></span></div></foreignObject></g></g><g class=\"edgeLabel\"><g class=\"label\" transform=\"translate(0, 0)\"><foreignObject width=\"0\" height=\"0\"><div xmlns=\"http://www.w3.org/1999/xhtml\" class=\"labelBkg\" style=\"display: table-cell; white-space: nowrap; line-height: 1.5; max-width: 200px; text-align: center;\"><span class=\"edgeLabel \"></span></div></foreignObject></g></g><g class=\"edgeLabel\"><g class=\"label\" transform=\"translate(0, 0)\"><foreignObject width=\"0\" height=\"0\"><div xmlns=\"http://www.w3.org/1999/xhtml\" class=\"labelBkg\" style=\"display: table-cell; white-space: nowrap; line-height: 1.5; max-width: 200px; text-align: center;\"><span class=\"edgeLabel \"></span></div></foreignObject></g></g><g class=\"edgeLabel\"><g class=\"label\" transform=\"translate(0, 0)\"><foreignObject width=\"0\" height=\"0\"><div xmlns=\"http://www.w3.org/1999/xhtml\" class=\"labelBkg\" style=\"display: table-cell; white-space: nowrap; line-height: 1.5; max-width: 200px; text-align: center;\"><span class=\"edgeLabel \"></span></div></foreignObject></g></g><g class=\"edgeLabel\"><g class=\"label\" transform=\"translate(0, 0)\"><foreignObject width=\"0\" height=\"0\"><div xmlns=\"http://www.w3.org/1999/xhtml\" class=\"labelBkg\" style=\"display: table-cell; white-space: nowrap; line-height: 1.5; max-width: 200px; text-align: center;\"><span class=\"edgeLabel \"></span></div></foreignObject></g></g><g class=\"edgeLabel\"><g class=\"label\" transform=\"translate(0, 0)\"><foreignObject width=\"0\" height=\"0\"><div xmlns=\"http://www.w3.org/1999/xhtml\" class=\"labelBkg\" style=\"display: table-cell; white-space: nowrap; line-height: 1.5; max-width: 200px; text-align: center;\"><span class=\"edgeLabel \"></span></div></foreignObject></g></g><g class=\"edgeLabel\"><g class=\"label\" transform=\"translate(0, 0)\"><foreignObject width=\"0\" height=\"0\"><div xmlns=\"http://www.w3.org/1999/xhtml\" class=\"labelBkg\" style=\"display: table-cell; white-space: nowrap; line-height: 1.5; max-width: 200px; text-align: center;\"><span class=\"edgeLabel \"></span></div></foreignObject></g></g><g class=\"edgeLabel\"><g class=\"label\" transform=\"translate(0, 0)\"><foreignObject width=\"0\" height=\"0\"><div xmlns=\"http://www.w3.org/1999/xhtml\" class=\"labelBkg\" style=\"display: table-cell; white-space: nowrap; line-height: 1.5; max-width: 200px; text-align: center;\"><span class=\"edgeLabel \"></span></div></foreignObject></g></g><g class=\"edgeLabel\"><g class=\"label\" transform=\"translate(0, 0)\"><foreignObject width=\"0\" height=\"0\"><div xmlns=\"http://www.w3.org/1999/xhtml\" class=\"labelBkg\" style=\"display: table-cell; white-space: nowrap; line-height: 1.5; max-width: 200px; text-align: center;\"><span class=\"edgeLabel \"></span></div></foreignObject></g></g><g class=\"edgeLabel\"><g class=\"label\" transform=\"translate(0, 0)\"><foreignObject width=\"0\" height=\"0\"><div xmlns=\"http://www.w3.org/1999/xhtml\" class=\"labelBkg\" style=\"display: table-cell; white-space: nowrap; line-height: 1.5; max-width: 200px; text-align: center;\"><span class=\"edgeLabel \"></span></div></foreignObject></g></g><g class=\"edgeLabel\"><g class=\"label\" transform=\"translate(0, 0)\"><foreignObject width=\"0\" height=\"0\"><div xmlns=\"http://www.w3.org/1999/xhtml\" class=\"labelBkg\" style=\"display: table-cell; white-space: nowrap; line-height: 1.5; max-width: 200px; text-align: center;\"><span class=\"edgeLabel \"></span></div></foreignObject></g></g><g class=\"edgeLabel\"><g class=\"label\" transform=\"translate(0, 0)\"><foreignObject width=\"0\" height=\"0\"><div xmlns=\"http://www.w3.org/1999/xhtml\" class=\"labelBkg\" style=\"display: table-cell; white-space: nowrap; line-height: 1.5; max-width: 200px; text-align: center;\"><span class=\"edgeLabel \"></span></div></foreignObject></g></g><g class=\"edgeLabel\"><g class=\"label\" transform=\"translate(0, 0)\"><foreignObject width=\"0\" height=\"0\"><div xmlns=\"http://www.w3.org/1999/xhtml\" class=\"labelBkg\" style=\"display: table-cell; white-space: nowrap; line-height: 1.5; max-width: 200px; text-align: center;\"><span class=\"edgeLabel \"></span></div></foreignObject></g></g><g class=\"edgeLabel\"><g class=\"label\" transform=\"translate(0, 0)\"><foreignObject width=\"0\" height=\"0\"><div xmlns=\"http://www.w3.org/1999/xhtml\" class=\"labelBkg\" style=\"display: table-cell; white-space: nowrap; line-height: 1.5; max-width: 200px; text-align: center;\"><span class=\"edgeLabel \"></span></div></foreignObject></g></g><g class=\"edgeLabel\"><g class=\"label\" transform=\"translate(0, 0)\"><foreignObject width=\"0\" height=\"0\"><div xmlns=\"http://www.w3.org/1999/xhtml\" class=\"labelBkg\" style=\"display: table-cell; white-space: nowrap; line-height: 1.5; max-width: 200px; text-align: center;\"><span class=\"edgeLabel \"></span></div></foreignObject></g></g><g class=\"edgeLabel\"><g class=\"label\" transform=\"translate(0, 0)\"><foreignObject width=\"0\" height=\"0\"><div xmlns=\"http://www.w3.org/1999/xhtml\" class=\"labelBkg\" style=\"display: table-cell; white-space: nowrap; line-height: 1.5; max-width: 200px; text-align: center;\"><span class=\"edgeLabel \"></span></div></foreignObject></g></g></g><g class=\"nodes\"><g class=\"node default  \" id=\"flowchart-A-0\" transform=\"translate(238.70703125, 60)\"><rect class=\"basic label-container\" style=\"\" x=\"-113.765625\" y=\"-27\" width=\"227.53125\" height=\"54\"/><g class=\"label\" style=\"\" transform=\"translate(-83.765625, -12)\"><rect/><foreignObject width=\"167.53125\" height=\"24\"><div xmlns=\"http://www.w3.org/1999/xhtml\" style=\"display: table-cell; white-space: nowrap; line-height: 1.5; max-width: 200px; text-align: center;\"><span class=\"nodeLabel \"><p>[0.43, 0.15, 0.89] (Your)</p></span></div></foreignObject></g></g><g class=\"node default  \" id=\"flowchart-B-1\" transform=\"translate(526.30859375, 60)\"><rect class=\"basic label-container\" style=\"\" x=\"-123.8359375\" y=\"-27\" width=\"247.671875\" height=\"54\"/><g class=\"label\" style=\"\" transform=\"translate(-93.8359375, -12)\"><rect/><foreignObject width=\"187.671875\" height=\"24\"><div xmlns=\"http://www.w3.org/1999/xhtml\" style=\"display: table-cell; white-space: nowrap; line-height: 1.5; max-width: 200px; text-align: center;\"><span class=\"nodeLabel \"><p>[0.55, 0.87, 0.66] (journey)</p></span></div></foreignObject></g></g><g class=\"node default  \" id=\"flowchart-C-2\" transform=\"translate(817.30078125, 60)\"><rect class=\"basic label-container\" style=\"\" x=\"-117.15625\" y=\"-27\" width=\"234.3125\" height=\"54\"/><g class=\"label\" style=\"\" transform=\"translate(-87.15625, -12)\"><rect/><foreignObject width=\"174.3125\" height=\"24\"><div xmlns=\"http://www.w3.org/1999/xhtml\" style=\"display: table-cell; white-space: nowrap; line-height: 1.5; max-width: 200px; text-align: center;\"><span class=\"nodeLabel \"><p>[0.57, 0.85, 0.64] (starts)</p></span></div></foreignObject></g></g><g class=\"node default  \" id=\"flowchart-D-3\" transform=\"translate(1096.28515625, 60)\"><rect class=\"basic label-container\" style=\"\" x=\"-111.828125\" y=\"-27\" width=\"223.65625\" height=\"54\"/><g class=\"label\" style=\"\" transform=\"translate(-81.828125, -12)\"><rect/><foreignObject width=\"163.65625\" height=\"24\"><div xmlns=\"http://www.w3.org/1999/xhtml\" style=\"display: table-cell; white-space: nowrap; line-height: 1.5; max-width: 200px; text-align: center;\"><span class=\"nodeLabel \"><p>[0.22, 0.58, 0.33] (with)</p></span></div></foreignObject></g></g><g class=\"node default  \" id=\"flowchart-E-4\" transform=\"translate(1369.05859375, 60)\"><rect class=\"basic label-container\" style=\"\" x=\"-110.9453125\" y=\"-27\" width=\"221.890625\" height=\"54\"/><g class=\"label\" style=\"\" transform=\"translate(-80.9453125, -12)\"><rect/><foreignObject width=\"161.890625\" height=\"24\"><div xmlns=\"http://www.w3.org/1999/xhtml\" style=\"display: table-cell; white-space: nowrap; line-height: 1.5; max-width: 200px; text-align: center;\"><span class=\"nodeLabel \"><p>[0.77, 0.25, 0.10] (one)</p></span></div></foreignObject></g></g><g class=\"node default  \" id=\"flowchart-F-5\" transform=\"translate(1642.72265625, 60)\"><rect class=\"basic label-container\" style=\"\" x=\"-112.71875\" y=\"-27\" width=\"225.4375\" height=\"54\"/><g class=\"label\" style=\"\" transform=\"translate(-82.71875, -12)\"><rect/><foreignObject width=\"165.4375\" height=\"24\"><div xmlns=\"http://www.w3.org/1999/xhtml\" style=\"display: table-cell; white-space: nowrap; line-height: 1.5; max-width: 200px; text-align: center;\"><span class=\"nodeLabel \"><p>[0.05, 0.80, 0.55] (step)</p></span></div></foreignObject></g></g><g class=\"node default  \" id=\"flowchart-G-6\" transform=\"translate(144.96484375, 214)\"><rect class=\"basic label-container\" style=\"\" x=\"-46.453125\" y=\"-27\" width=\"92.90625\" height=\"54\"/><g class=\"label\" style=\"\" transform=\"translate(-16.453125, -12)\"><rect/><foreignObject width=\"32.90625\" height=\"24\"><div xmlns=\"http://www.w3.org/1999/xhtml\" style=\"display: table-cell; white-space: nowrap; line-height: 1.5; max-width: 200px; text-align: center;\"><span class=\"nodeLabel \"><p>W_q</p></span></div></foreignObject></g></g><g class=\"node default  \" id=\"flowchart-H-7\" transform=\"translate(955.33203125, 214)\"><rect class=\"basic label-container\" style=\"\" x=\"-46\" y=\"-27\" width=\"92\" height=\"54\"/><g class=\"label\" style=\"\" transform=\"translate(-16, -12)\"><rect/><foreignObject width=\"32\" height=\"24\"><div xmlns=\"http://www.w3.org/1999/xhtml\" style=\"display: table-cell; white-space: nowrap; line-height: 1.5; max-width: 200px; text-align: center;\"><span class=\"nodeLabel \"><p>W_k</p></span></div></foreignObject></g></g><g class=\"node default  \" id=\"flowchart-I-8\" transform=\"translate(1743.16796875, 214)\"><rect class=\"basic label-container\" style=\"\" x=\"-46\" y=\"-27\" width=\"92\" height=\"54\"/><g class=\"label\" style=\"\" transform=\"translate(-16, -12)\"><rect/><foreignObject width=\"32\" height=\"24\"><div xmlns=\"http://www.w3.org/1999/xhtml\" style=\"display: table-cell; white-space: nowrap; line-height: 1.5; max-width: 200px; text-align: center;\"><span class=\"nodeLabel \"><p>W_v</p></span></div></foreignObject></g></g><g class=\"node default  \" id=\"flowchart-J-9\" transform=\"translate(144.96484375, 368)\"><rect class=\"basic label-container\" style=\"fill:#ff9999 !important\" x=\"-98.9296875\" y=\"-27\" width=\"197.859375\" height=\"54\"/><g class=\"label\" style=\"\" transform=\"translate(-68.9296875, -12)\"><rect/><foreignObject width=\"137.859375\" height=\"24\"><div xmlns=\"http://www.w3.org/1999/xhtml\" style=\"display: table-cell; white-space: nowrap; line-height: 1.5; max-width: 200px; text-align: center;\"><span class=\"nodeLabel \"><p>Query: [0.68, -0.12]</p></span></div></foreignObject></g></g><g class=\"node default  \" id=\"flowchart-K-10\" transform=\"translate(955.33203125, 368)\"><rect class=\"basic label-container\" style=\"\" x=\"-47.7890625\" y=\"-27\" width=\"95.578125\" height=\"54\"/><g class=\"label\" style=\"\" transform=\"translate(-17.7890625, -12)\"><rect/><foreignObject width=\"35.578125\" height=\"24\"><div xmlns=\"http://www.w3.org/1999/xhtml\" style=\"display: table-cell; white-space: nowrap; line-height: 1.5; max-width: 200px; text-align: center;\"><span class=\"nodeLabel \"><p>Keys</p></span></div></foreignObject></g></g><g class=\"node default  \" id=\"flowchart-L-11\" transform=\"translate(1743.16796875, 368)\"><rect class=\"basic label-container\" style=\"\" x=\"-53.8671875\" y=\"-27\" width=\"107.734375\" height=\"54\"/><g class=\"label\" style=\"\" transform=\"translate(-23.8671875, -12)\"><rect/><foreignObject width=\"47.734375\" height=\"24\"><div xmlns=\"http://www.w3.org/1999/xhtml\" style=\"display: table-cell; white-space: nowrap; line-height: 1.5; max-width: 200px; text-align: center;\"><span class=\"nodeLabel \"><p>Values</p></span></div></foreignObject></g></g><g class=\"node default  \" id=\"flowchart-M-12\" transform=\"translate(492.38671875, 522)\"><rect class=\"basic label-container\" style=\"\" x=\"-72.2421875\" y=\"-27\" width=\"144.484375\" height=\"54\"/><g class=\"label\" style=\"\" transform=\"translate(-42.2421875, -12)\"><rect/><foreignObject width=\"84.484375\" height=\"24\"><div xmlns=\"http://www.w3.org/1999/xhtml\" style=\"display: table-cell; white-space: nowrap; line-height: 1.5; max-width: 200px; text-align: center;\"><span class=\"nodeLabel \"><p>Dot Product</p></span></div></foreignObject></g></g><g class=\"node default  \" id=\"flowchart-N-13\" transform=\"translate(492.38671875, 626)\"><rect class=\"basic label-container\" style=\"\" x=\"-59.34375\" y=\"-27\" width=\"118.6875\" height=\"54\"/><g class=\"label\" style=\"\" transform=\"translate(-29.34375, -12)\"><rect/><foreignObject width=\"58.6875\" height=\"24\"><div xmlns=\"http://www.w3.org/1999/xhtml\" style=\"display: table-cell; white-space: nowrap; line-height: 1.5; max-width: 200px; text-align: center;\"><span class=\"nodeLabel \"><p>Softmax</p></span></div></foreignObject></g></g><g class=\"node default  \" id=\"flowchart-O-14\" transform=\"translate(951.17578125, 730)\"><rect class=\"basic label-container\" style=\"\" x=\"-82.328125\" y=\"-27\" width=\"164.65625\" height=\"54\"/><g class=\"label\" style=\"\" transform=\"translate(-52.328125, -12)\"><rect/><foreignObject width=\"104.65625\" height=\"24\"><div xmlns=\"http://www.w3.org/1999/xhtml\" style=\"display: table-cell; white-space: nowrap; line-height: 1.5; max-width: 200px; text-align: center;\"><span class=\"nodeLabel \"><p>Weighted Sum</p></span></div></foreignObject></g></g><g class=\"node default  \" id=\"flowchart-P-15\" transform=\"translate(951.17578125, 884)\"><rect class=\"basic label-container\" style=\"fill:#99ff99 !important\" x=\"-82.4765625\" y=\"-27\" width=\"164.953125\" height=\"54\"/><g class=\"label\" style=\"\" transform=\"translate(-52.4765625, -12)\"><rect/><foreignObject width=\"104.953125\" height=\"24\"><div xmlns=\"http://www.w3.org/1999/xhtml\" style=\"display: table-cell; white-space: nowrap; line-height: 1.5; max-width: 200px; text-align: center;\"><span class=\"nodeLabel \"><p>Context Vector</p></span></div></foreignObject></g></g></g></g></g></svg>"
      ],
      "text/plain": [
       "<mermaid.__main__.Mermaid at 0x116cffc50>"
      ]
     },
     "execution_count": 16,
     "metadata": {},
     "output_type": "execute_result"
    }
   ],
   "source": [
    "attention_schema = \"\"\"\n",
    "graph TD\n",
    "    subgraph Input Embeddings\n",
    "        A[\"[0.43, 0.15, 0.89] (Your)\"]\n",
    "        B[\"[0.55, 0.87, 0.66] (journey)\"]\n",
    "        C[\"[0.57, 0.85, 0.64] (starts)\"]\n",
    "        D[\"[0.22, 0.58, 0.33] (with)\"]\n",
    "        E[\"[0.77, 0.25, 0.10] (one)\"]\n",
    "        F[\"[0.05, 0.80, 0.55] (step)\"]\n",
    "    end\n",
    "    subgraph Linear Projections\n",
    "        G[\"W_q\"]\n",
    "        H[\"W_k\"]\n",
    "        I[\"W_v\"]\n",
    "    end\n",
    "    subgraph Projected Vectors\n",
    "        J[\"Query: [0.68, -0.12]\"]\n",
    "        K[\"Keys\"]\n",
    "        L[\"Values\"]\n",
    "    end\n",
    "    subgraph Attention Mechanism\n",
    "        M[\"Dot Product\"]\n",
    "        N[\"Softmax\"]\n",
    "        O[\"Weighted Sum\"]\n",
    "    end\n",
    "    subgraph Output\n",
    "        P[\"Context Vector\"]\n",
    "    end\n",
    "    A --> G\n",
    "    B --> G\n",
    "    C --> G\n",
    "    D --> G\n",
    "    E --> G\n",
    "    F --> G\n",
    "    A --> H\n",
    "    B --> H\n",
    "    C --> H\n",
    "    D --> H\n",
    "    E --> H\n",
    "    F --> H\n",
    "    A --> I\n",
    "    B --> I\n",
    "    C --> I\n",
    "    D --> I\n",
    "    E --> I\n",
    "    F --> I\n",
    "    G --> J\n",
    "    H --> K\n",
    "    I --> L\n",
    "    J --> M\n",
    "    K --> M\n",
    "    M --> N\n",
    "    N --> O\n",
    "    L --> O\n",
    "    O --> P\n",
    "    style J fill:#ff9999\n",
    "    style P fill:#99ff99\n",
    "\"\"\"\n",
    "\n",
    "Mermaid(attention_schema)\n"
   ]
  },
  {
   "cell_type": "code",
   "execution_count": 17,
   "id": "edcad79b",
   "metadata": {},
   "outputs": [],
   "source": [
    "class ScaledDotProductAttention(nn.Module):\n",
    "    \"\"\"\n",
    "    Scaled Dot Product Attention Mechanism\n",
    "    \"\"\"\n",
    "    def __init__(self, d_in, d_out, qkv_bias=False):\n",
    "        super().__init__()\n",
    "        self.W_query = nn.Linear(d_in, d_out, bias=qkv_bias)\n",
    "        self.W_key = nn.Linear(d_in, d_out, bias=qkv_bias)\n",
    "        self.W_value = nn.Linear(d_in, d_out, bias=qkv_bias)\n",
    "\n",
    "    def forward(self, x):\n",
    "        keys = self.W_key(x)\n",
    "        values = self.W_value(x)\n",
    "        queries = self.W_query(x)\n",
    "        atten_scores = queries @ keys.T # omega\n",
    "        atten_weights = F.softmax(atten_scores / keys.shape[-1]**0.5, dim=-1)\n",
    "        context_vectors = atten_weights @ values\n",
    "        return context_vectors\n",
    "\n"
   ]
  },
  {
   "cell_type": "code",
   "execution_count": 18,
   "id": "1c588836",
   "metadata": {},
   "outputs": [
    {
     "data": {
      "text/plain": [
       "tensor([[-0.5337, -0.1051],\n",
       "        [-0.5323, -0.1080],\n",
       "        [-0.5323, -0.1079],\n",
       "        [-0.5297, -0.1076],\n",
       "        [-0.5311, -0.1066],\n",
       "        [-0.5299, -0.1081]], grad_fn=<MmBackward0>)"
      ]
     },
     "execution_count": 18,
     "metadata": {},
     "output_type": "execute_result"
    }
   ],
   "source": [
    "torch.manual_seed(123)\n",
    "attention = ScaledDotProductAttention(d_in=3, d_out=2)\n",
    "context_vec3 = attention(inputs)\n",
    "context_vec3"
   ]
  },
  {
   "cell_type": "code",
   "execution_count": null,
   "id": "8093f213",
   "metadata": {},
   "outputs": [],
   "source": []
  }
 ],
 "metadata": {
  "kernelspec": {
   "display_name": "llms_from_scratch",
   "language": "python",
   "name": "python3"
  },
  "language_info": {
   "codemirror_mode": {
    "name": "ipython",
    "version": 3
   },
   "file_extension": ".py",
   "mimetype": "text/x-python",
   "name": "python",
   "nbconvert_exporter": "python",
   "pygments_lexer": "ipython3",
   "version": "3.13.2"
  }
 },
 "nbformat": 4,
 "nbformat_minor": 5
}
